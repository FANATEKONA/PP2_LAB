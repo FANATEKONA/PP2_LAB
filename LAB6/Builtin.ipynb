{
 "cells": [
  {
   "cell_type": "code",
   "execution_count": 3,
   "id": "c1ede024-bc6a-4c33-b795-f61b3f0de5fa",
   "metadata": {},
   "outputs": [
    {
     "name": "stdin",
     "output_type": "stream",
     "text": [
      " 2 5 \n"
     ]
    },
    {
     "name": "stdout",
     "output_type": "stream",
     "text": [
      "10\n"
     ]
    }
   ],
   "source": [
    "import math \n",
    "def pro(a):\n",
    "    return math.prod(a)\n",
    "a = [int(i) for i in input().split()]\n",
    "print(pro(a))"
   ]
  },
  {
   "cell_type": "code",
   "execution_count": 5,
   "id": "2cb7e932-5160-44cd-b81d-dd6f555fd139",
   "metadata": {},
   "outputs": [
    {
     "name": "stdin",
     "output_type": "stream",
     "text": [
      " фиф\n"
     ]
    },
    {
     "name": "stdout",
     "output_type": "stream",
     "text": [
      "(0, 3)\n"
     ]
    }
   ],
   "source": [
    "def check(s):\n",
    "    a = sum(1 for x in s if x.isupper())\n",
    "    b = sum(1 for x in s if x.islower())\n",
    "    return a,b\n",
    "s = input()\n",
    "print(check(s))"
   ]
  },
  {
   "cell_type": "code",
   "execution_count": 7,
   "id": "39b63418-34ca-4aff-9a83-140f79eb16b0",
   "metadata": {},
   "outputs": [
    {
     "name": "stdin",
     "output_type": "stream",
     "text": [
      " фиф\n"
     ]
    },
    {
     "name": "stdout",
     "output_type": "stream",
     "text": [
      "True\n"
     ]
    }
   ],
   "source": [
    "def pal(s):\n",
    "    s=s.lower()\n",
    "    return s == s[::-1]\n",
    "s = input()\n",
    "print(pal(s))"
   ]
  },
  {
   "cell_type": "code",
   "execution_count": 1,
   "id": "dcca4d93-a748-42c2-856d-c2810bfd6800",
   "metadata": {},
   "outputs": [
    {
     "name": "stdin",
     "output_type": "stream",
     "text": [
      " 25\n",
      " 2\n"
     ]
    },
    {
     "name": "stdout",
     "output_type": "stream",
     "text": [
      "Square root of  25  after  2  miliseconds is  5.0\n"
     ]
    }
   ],
   "source": [
    "import time\n",
    "a = int(input())\n",
    "b = int(input())\n",
    "time.sleep(0.001*b)\n",
    "print(\"Square root of \", a , \" after \", b ,\" miliseconds is \" , a**(1/2) )"
   ]
  },
  {
   "cell_type": "code",
   "execution_count": 11,
   "id": "e0fc1c5c-fc37-4d87-8f44-07eb9d6fe99c",
   "metadata": {},
   "outputs": [
    {
     "name": "stdout",
     "output_type": "stream",
     "text": [
      "True\n"
     ]
    }
   ],
   "source": [
    "def shyndyk(a):\n",
    "    return all(a)\n",
    "a = (1, True, \"Hello\", [1, 2, 3])\n",
    "print(shyndyk(a))"
   ]
  },
  {
   "cell_type": "code",
   "execution_count": null,
   "id": "af50ca4d-6f9e-4389-99ca-7f75309ce868",
   "metadata": {},
   "outputs": [],
   "source": []
  }
 ],
 "metadata": {
  "kernelspec": {
   "display_name": "Python 3 (ipykernel)",
   "language": "python",
   "name": "python3"
  },
  "language_info": {
   "codemirror_mode": {
    "name": "ipython",
    "version": 3
   },
   "file_extension": ".py",
   "mimetype": "text/x-python",
   "name": "python",
   "nbconvert_exporter": "python",
   "pygments_lexer": "ipython3",
   "version": "3.12.7"
  }
 },
 "nbformat": 4,
 "nbformat_minor": 5
}
