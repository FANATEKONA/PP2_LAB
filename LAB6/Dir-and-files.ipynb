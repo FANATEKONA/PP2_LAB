{
 "cells": [
  {
   "cell_type": "code",
   "execution_count": 21,
   "id": "afa5bd72-260a-480c-89ed-7b59d12fe438",
   "metadata": {},
   "outputs": [
    {
     "name": "stdin",
     "output_type": "stream",
     "text": [
      " C:\\Users\\a1mas\\Downloads\\Telegram Desktop\n"
     ]
    },
    {
     "name": "stdout",
     "output_type": "stream",
     "text": [
      "[]\n",
      "['#SyllabusDiscrete structures.pdf', '02-02_00-23.pdf', '04-12_10-00.pdf', '11.py', '12.py', '13.py', '17-02_08-15.pdf', '17-04_16-41.pdf', '19-04_08-48.pdf', '1_15_апта_семинар_тақырыптары_мен_сұрақтар_1_1_20_1.docx', '2-ай-1-апта-ст-геометрия.pdf', '2-ай-2-апта-ст-геометрия.pdf', '2023_Syllabus Calculus-2 (FIT).pdf', '21-12_11-12.pdf', '26-02_12-03.pdf', '26-04_16-34.pdf', '6В06102_Вычислительная_техника_и_программное_обеспечение (2).PDF', '6В06102_Вычислительная_техника_и_программное_обеспечение.PDF', '7.py', '9a.cpp', '9b.cpp', '9c.cpp', '9d.cpp', '9e.cpp', '9f.cpp', '9g.cpp', '9h.cpp', '9i.cpp', '9j.cpp', '9k.cpp', '9l.cpp', '9m.cpp', '9n.cpp', '9o.cpp', '9p.cpp', '9q.cpp', '9r.cpp', '9s.cpp', '9t.cpp', '9u.cpp', '9v.cpp', '9v1.cpp', '9w.cpp', '9x.cpp', '9z.cpp', 'akimmmich - Шағала.mp3', 'ALGORITHM_FOR_ORGANIZING_AND_CONDUCTING_THE_ACADEMIC_PROCESS_FROM (2).pdf', 'ALGORITHM_FOR_ORGANIZING_AND_CONDUCTING_THE_ACADEMIC_PROCESS_FROM.pdf', 'algos quiz.pdf', 'animation', 'Answers HW 12.pdf', 'Answers HW 8.pdf', 'ARRAYS.ipynb', 'Assignment_6.pdf', 'Calc 2, Seminal-1, A. Alimbek.pdf', 'Calc 2, Seminar-2, A. Alimbek (2).pdf', 'Calc 2, Seminar-2, A. Alimbek.pdf', 'Calc 2, Seminar-3, A.Alimbek.pdf', 'Calc 2, Seminar-5, A.Alimbek.pdf', 'Calc 2, Seminar-6, A. Alimbek.pdf', 'Calc 2,Seminar -2,A. Alimbek.pdf', 'Chezile - Beanie.mp3', 'cp-handbook-qaz.pdf', 'Dabro-Что же ты молчишь.mp3', 'Discrete Mathematics and Its Applications Seventh Edition.PDF', 'Discrete Maths.pdf', 'doc.cpp', 'Ds_HW1.pdf', 'Dzhumadildaev Askar Discrete Structures (1).PDF', 'Excel Laboratory work.docx', 'final(.PNG', 'FUNCTIONS.ipynb', 'g.cpp', 'guide to scheduling.pdf', 'Haggarti_Diskretnaya-matematika-dlya-programmistov.248216.djvu', 'Him and I - G Eazy Halsey.mp3', 'homework 13.pdf', 'IMG000.jpg', 'IMG_4101.PNG', 'INHERITANCE.ipynb', 'Jah Khalib-На параллельных путях.mp3', 'JONY-Аллея (2).mp3', 'JONY-Аллея.mp3', 'Kolman_Zanimatelnaya-logika.685359.djvu', 'Kosmuse_cover_Дариға_жүрек_Медеу_Арынбаев.mp3', 'Kosmuse_cover_Сен_үшін_жаралғандаймын_Мейрамбек.mp3', 'Kosmuse_cover_Табайын_жолын_қалай_Мейрамбек_Бес.mp3', 'lab10.zip', 'lab11recur.zip', 'lab1_macro.xlsx', 'Labka1_outline_example(_).pdf', 'lab_1.xlsx', 'LAMBDA.ipynb', 'Lec1 Solving Linear systems.pdf', 'Lec11 Complex vector space. Similarity diagonalizability.pdf', 'Lec12 Similarity nilpotence.pdf', 'Lec13_Jordan form.pdf', 'lec1_Sets.pdf', 'Lec2 Linear geometry and reduced echelon form.pdf', 'Lec3 Definition of Vector Spaces and Linear Independence-2.pdf', 'Lec4 Vector Spaces. Basis and Dimension (2).pdf', 'Lec4 Vector Spaces. Basis and Dimension.pdf', 'Lec5 Maps Between Spaces. Isomorphism and Homomorphism.pdf', 'Lec6_Maps_Between_Spaces_Matrix_operations_and_Change_of_basis.pdf', 'Lec8_Projection,_Gram_Schmidt_Orthogonalization,_projection_into.pdf', 'Lec9 Determinants. definition, properties.pdf', 'linear hw9.pdf', 'Lipschutz, Lipson - Th and Prob of Discrete Math.pdf', 'monkyform.pdf', 'OBJECTS.ipynb', 'Odium - LXST CXNTURY.mp3', 'Ostemirova Uldana Discrete Structures.PDF', 'pp1_final.pdf', 'Programming Principles II syllabus.pdf', 'questions_and_answers.pdf', 'QUIZ PREPARATION.pdf', 'quiz1.pdf', 'Sadraddin - Kuz.mp3', 'Screenshot_20241202_105648_Firefox.jpg', 'Seminar 01_Operations on sets.pdf', 'Seminar 1.docx', 'Seminar 10.pdf', 'Seminar 11 (2).pdf', 'Seminar 11.pdf', 'Seminar 12 (2).pdf', 'Seminar 12.pdf', 'Seminar 13 (2).pdf', 'Seminar 2 (1).pdf', 'Seminar 2 (2).docx', 'Seminar 2 (3).docx', 'Seminar 2 (3).pdf', 'Seminar 2 (odd numbered tasks 1-34).pdf', 'Seminar 2.docx', 'Seminar 3 (2).docx', 'Seminar 3 (2).pdf', 'Seminar 3.docx', 'Seminar 4 (1).pdf', 'Seminar 4.docx', 'Seminar 46.pdf', 'Seminar 5 (2).pdf', 'Seminar 5 (3).pdf', 'Seminar 5 (4).pdf', 'Seminar 5.pdf', 'Seminar 6.docx', 'Seminar 6.pdf', 'Seminar 8 (2).pdf', 'Seminar 8.pdf', 'Seminar 9 (2).pdf', 'Seminar 9.pdf', 'Seminar lesson 1-2.pdf', 'Seminar lesson 1.pdf', 'Seminar2_DS_lol.pdf', 'Solution even Kenneth Rosen.pdf', 'Solution odd Kenneth Rosen.pdf', 'Syllabus ACM ICPC I 2023.pdf', 'Syllabus ACM ICPC II 2023.pdf', 'Syllabus discreate.pdf', 'Syllabus Linear Algebra for Engineers Fall 2024-2025.pdf', 'Syllabus Phys 1 (spring 2024).pdf', 'Syllabus(Issakhov,Bazarbaeva)_Discrete structures  (2).pdf', 'Syllabus(Issakhov,Bazarbaeva)_Discrete structures .pdf', 'The Weeknd feat. Ariana Grande-Die For You (Remix).mp3', 'TV Girl-Cigarettes out the Window.mp3', 'Zero variant.pdf', 'ɪʟʏᴀs_ᴘʀᴏᴅᴜᴄᴛɪᴏɴ_Напиши_письмо_магангитаре.mp3', 'айлық-тест-2-информатика (2).pdf', 'айлық-тест-2-информатика.pdf', 'айлық-тест-геометрия.pdf', 'айлық-тест-математика-2.pdf', 'айлық-тест-математика.pdf', 'айлық-тест.pdf', 'алгебра-домашка-3.pdf', 'алгебра-домашка-8.pdf', 'ат-4-математика.pdf', 'ағылшын-дебат.pdf', 'ГАЙД ПО СОСТАВЛЕНИЮ РАСПИСАНИЯ.pdf', 'геометрия-ст-1-ай-1-апта.pdf', 'геометрия-ст-1-ай-3-апта.pdf', 'геометрия-үй-жұмысы-7.pdf', 'график встреч.pdf', 'Дебат  (2).docx', 'Дебат .docx', 'дедлайн-кешігем-енді.pdf', 'дедлайн-кешігу-100%.pdf', 'Джумадильдаев_А_С_Элементы_дискретной_математики_часть_1_1.pdf', 'Дискретка силлабус(Джумик).docx', 'домашка-дискретка-4.pdf', 'ең_керемет_кураторға_математика_11_үй_жұмысы.pdf', 'жоспар.pdf', 'ИК силлабус 2024 осень КБТУ.docx', 'инструкция по FX.pptx', 'Инструкция_по_регистрации_студентов_на_дисциплины.pdf', 'информатика-конспект-6.pdf', 'информатика-қатемен-жұмыс-1.pdf', 'информатика-үж-7.pdf', 'информатика-үй-жұмысы-3.pdf', 'информатика-үй-жұмысы-4.pdf', 'информатика-үй-жұмысы-6.pdf', 'Кавказский шансон-Черные Глаза.mp3', 'калкулус-семинар-1.pdf', 'КЕСТЕ ЖАСАУ ЖӨНІНДЕГІ ГАЙД (2).pdf', 'КЕСТЕ ЖАСАУ ЖӨНІНДЕГІ ГАЙД.pdf', 'книга Джумадильдаева.pdf', 'конспект (2).pdf', 'конспект-10-информатика.pdf', 'конспект-11-информатика.pdf', 'конспект-11-математика.pdf', 'конспект-12-геометрия.pdf', 'конспект-17-математика.pdf', 'конспект-2-математика.pdf', 'конспект-20-математика.pdf', 'конспект-29-информатика.pdf', 'конспект-3-математика.pdf', 'конспект-34-математика.pdf', 'конспект-5-информатика.pdf', 'конспект-8-математика.pdf', 'конспект-9-10-информатика.pdf', 'конспект-9-математика.pdf', 'конспект-геометрия-11.pdf', 'конспект-дискретка-1.pdf', 'конспект-дискретка-2.pdf', 'конспект-дискретка-4.pdf', 'конспект-дискретка-5 (2).pdf', 'конспект-дискретка-5.pdf', 'конспект-информатика-1.pdf', 'конспект-информатика-13.pdf', 'конспект-информатика-14.pdf', 'конспект-информатика-15.pdf', 'конспект-информатика-16.pdf', 'конспект-информатика-19.pdf', 'конспект-информатика-2.pdf', 'конспект-информатика-20.pdf', 'конспект-информатика-27.pdf', 'конспект-информатика-28.pdf', 'конспект-информатика-3.pdf', 'конспект-информатика-30.pdf', 'конспект-информатика-31.pdf', 'конспект-информатика-32.pdf', 'конспект-информатика-4.pdf', 'конспект-информатика-7.pdf', 'конспект-информатика-8.pdf', 'конспект-информатика.pdf', 'конспект-математика-1.pdf', 'конспект-математика-10.pdf', 'конспект-математика-12.pdf', 'конспект-математика-13.pdf', 'конспект-математика-14.pdf', 'конспект-математика-15.pdf', 'конспект-математика-16.pdf', 'конспект-математика-27.pdf', 'конспект-математика-28.pdf', 'конспект-математика-29.pdf', 'конспект-математика-30.pdf', 'конспект-математика-33.pdf', 'конспект-математика-36.pdf', 'конспект-математика-4.pdf', 'конспект-математика-5.pdf', 'конспект-математика-6.pdf', 'конспект-математика-7.pdf', 'конспект-математика.pdf', 'конспект.pdf', 'кузиз-тест-тарих-1.pdf', 'кузиз-тест-тарих-2.pdf', 'кузиз-тест-тарих-4.pdf', 'кузиз-тест-қайталау-тарих-1.pdf', 'курс-степ-договор.pdf', 'линейка-домашка-10.pdf', 'линейка-домашка-12.pdf', 'линейка-домашка-8.pdf', 'линейка-домашка-9.pdf', 'линейка-домашка-бонус-11 (2).pdf', 'линейка-домашка-бонус-11.pdf', 'линейка-последний-дз.pdf', 'линейная-алгебра-домашка-2.pdf', 'Макс Корж - Пролетарка.mp3', 'математика-11-үй-жұмысы.pdf', 'математика-4-ай-3-апта.pdf', 'математика-қорытынды-тест.pdf', 'математика-үй-жұмысы-27.pdf', 'математика-үй-жұмысы-3.pdf', 'математика-үй-жұмысы-6.pdf', 'математика-үй-жұмысы-7.pdf', 'математиканың_ең_басты_жауы_х_ті_тауып_алдым.pdf', 'мақсат.pdf', 'миымды_шірітіп_біткен_while_дың_үй_жұмысы.pdf', 'МОТ-Капкан.mp3', 'мынау-while-дан-өткен-ғой.pdf', 'Не приму и даром - Navai Bahh Tee.mp3', 'Обновленный график встреч.pdf', 'Перекрестки - Мот.mp3', 'политология-конспект-2.pdf', 'политология-форма-и-конспект.pdf', 'политология.pdf', 'РУП АУ 23-24.PDF', 'с -с-1-казахстан-та -их.pdf', 'с.pdf', 'Снимок экрана 2025-01-18 в 8.53.58 PM.png', 'соңғы-ст-геометрия.pdf', 'соңғы-үй-жұмысы-геометрия.pdf', 'ст (2).pdf', 'ст-1-ай-1-апта-геометрия.pdf', 'ст-2-математика.pdf', 'ст-3-математика.pdf', 'ст-4-ай-1-апта.pdf', 'ст-4-ай-2-апта.pdf', 'ст-5-ай-1-апта.pdf', 'ст-5-математика.pdf', 'ст-информатика-3.pdf', 'ст-пересдача-100%.pdf', 'ст.pdf', 'ст_5_ай_3_апта_яғни_соңғы_математика_ст.pdf', 'тарихс-с -с.pdf', 'ТИМСКЕ КІРУ СІЛТЕМЕЛЕРІ.docx', 'Тишин И.И.  Дискретная математика.pdf', 'тт.pdf', 'учпучмак-7.pdf', 'Қайрат_Нұртас_Сырым_Исабаев_Қос_жүрек.mp3', 'қатемен-жұмыс-12-математика.pdf', 'қатемен-жұмыс-14-математика.pdf', 'қатемен-жұмыс-16-математика.pdf', 'қатемен-жұмыс-2.pdf', 'қатемен-жұмыс-3-геометрия.pdf', 'қатемен-жұмыс-4.pdf', 'қатемен-жұмыс-5-математика.pdf', 'қатемен-жұмыс-8-информатика.pdf', 'қатемен-жұмыс-9.pdf', 'қатемен-жұмыс-геометрия-12.pdf', 'қатемен-жұмыс-информатика-1.pdf', 'қатемен-жұмыс.pdf', 'қорытынды-тест-геометрия.pdf', 'қорытынды-тест-математика.pdf', 'қорытынды-тест.pdf', 'ҚТ_1_СРС_VI_XII_ғ_түрік_мемлекеттері_1 (2).docx', 'ҚТ_1_СРС_VI_XII_ғ_түрік_мемлекеттері_1 (3).docx', 'ҚТ_1_СРС_VI_XII_ғ_түрік_мемлекеттері_1.docx', 'үж-10-информатика.pdf', 'үж-14-информатика.pdf', 'үж-14-математика.pdf', 'үж-16-математика.pdf', 'үж-8.pdf', 'үж-9-информатика.pdf', 'үй-жұмысы-11-информатика.pdf', 'үй-жұмысы-12-математика.pdf', 'үй-жұмысы-13-математика.pdf', 'үй-жұмысы-14-информатика.pdf', 'үй-жұмысы-15-информатика.pdf', 'үй-жұмысы-15-математика.pdf', 'үй-жұмысы-16-информатика.pdf', 'үй-жұмысы-16-математика-new.pdf', 'үй-жұмысы-16-математика.pdf', 'үй-жұмысы-19-математика.pdf', 'үй-жұмысы-20-математика.pdf', 'үй-жұмысы-28-информатика.pdf', 'үй-жұмысы-28-математика.pdf', 'үй-жұмысы-29-информатика.pdf', 'үй-жұмысы-29-математика.pdf', 'үй-жұмысы-3-геометрия.pdf', 'үй-жұмысы-30-математика.pdf', 'үй-жұмысы-31-информатика.pdf', 'үй-жұмысы-32-информатика.pdf', 'үй-жұмысы-32-математика.pdf', 'үй-жұмысы-35-математика.pdf', 'үй-жұмысы-36-математика.pdf', 'үй-жұмысы-39-математика.pdf', 'үй-жұмысы-4-геометрия.pdf', 'үй-жұмысы-40-математика.pdf', 'үй-жұмысы-5-геометрия.pdf', 'үй-жұмысы-6-информатика (2).pdf', 'үй-жұмысы-6-информатика.pdf', 'үй-жұмысы-8-информатика.pdf', 'үй-жұмысы-9-геометрия.pdf', 'үй-жұмысы-9-математика.pdf', 'үй-жұмысы-геометрия-1.pdf', 'үй-жұмысы-геометрия-10.pdf', 'үй-жұмысы-геометрия-11.pdf', 'үй-жұмысы-геометрия-12.pdf', 'үй-жұмысы-геометрия-14.pdf', 'үй-жұмысы-геометрия-15.pdf', 'үй-жұмысы-геометрия-2.pdf', 'үй-жұмысы-геометрия-6.pdf', 'үй-жұмысы-геометрия-7.pdf', 'үй-жұмысы-геометрия-8.pdf', 'үй-жұмысы-гомотетия.pdf', 'үй-жұмысы-информатика-2.pdf', 'үй-жұмысы-информатика-27.pdf', 'үй-жұмысы-информатика-3.pdf', 'үй-жұмысы-информатика-30.pdf', 'үй-жұмысы-информатика-5.pdf', 'үй-жұмысы-информатика-7-new.pdf', 'үй-жұмысы-информатика-7-жаңа.pdf', 'үй-жұмысы-информатика.pdf', 'үй-жұмысы-математика-2.pdf', 'үй-жұмысы-математика-31.pdf', 'үй-жұмысы-математика-33.pdf', 'үй-жұмысы-математика-34.pdf', 'үй-жұмысы-математика-38.pdf', 'үй-жұмысы-математика-4.pdf', 'үй-жұмысы-математика-5.pdf']\n",
      "['#SyllabusDiscrete structures.pdf', '02-02_00-23.pdf', '04-12_10-00.pdf', '11.py', '12.py', '13.py', '17-02_08-15.pdf', '17-04_16-41.pdf', '19-04_08-48.pdf', '1_15_апта_семинар_тақырыптары_мен_сұрақтар_1_1_20_1.docx', '2-ай-1-апта-ст-геометрия.pdf', '2-ай-2-апта-ст-геометрия.pdf', '2023_Syllabus Calculus-2 (FIT).pdf', '21-12_11-12.pdf', '26-02_12-03.pdf', '26-04_16-34.pdf', '6В06102_Вычислительная_техника_и_программное_обеспечение (2).PDF', '6В06102_Вычислительная_техника_и_программное_обеспечение.PDF', '7.py', '9a.cpp', '9b.cpp', '9c.cpp', '9d.cpp', '9e.cpp', '9f.cpp', '9g.cpp', '9h.cpp', '9i.cpp', '9j.cpp', '9k.cpp', '9l.cpp', '9m.cpp', '9n.cpp', '9o.cpp', '9p.cpp', '9q.cpp', '9r.cpp', '9s.cpp', '9t.cpp', '9u.cpp', '9v.cpp', '9v1.cpp', '9w.cpp', '9x.cpp', '9z.cpp', 'akimmmich - Шағала.mp3', 'ALGORITHM_FOR_ORGANIZING_AND_CONDUCTING_THE_ACADEMIC_PROCESS_FROM (2).pdf', 'ALGORITHM_FOR_ORGANIZING_AND_CONDUCTING_THE_ACADEMIC_PROCESS_FROM.pdf', 'algos quiz.pdf', 'animation', 'Answers HW 12.pdf', 'Answers HW 8.pdf', 'ARRAYS.ipynb', 'Assignment_6.pdf', 'Calc 2, Seminal-1, A. Alimbek.pdf', 'Calc 2, Seminar-2, A. Alimbek (2).pdf', 'Calc 2, Seminar-2, A. Alimbek.pdf', 'Calc 2, Seminar-3, A.Alimbek.pdf', 'Calc 2, Seminar-5, A.Alimbek.pdf', 'Calc 2, Seminar-6, A. Alimbek.pdf', 'Calc 2,Seminar -2,A. Alimbek.pdf', 'Chezile - Beanie.mp3', 'cp-handbook-qaz.pdf', 'Dabro-Что же ты молчишь.mp3', 'Discrete Mathematics and Its Applications Seventh Edition.PDF', 'Discrete Maths.pdf', 'doc.cpp', 'Ds_HW1.pdf', 'Dzhumadildaev Askar Discrete Structures (1).PDF', 'Excel Laboratory work.docx', 'final(.PNG', 'FUNCTIONS.ipynb', 'g.cpp', 'guide to scheduling.pdf', 'Haggarti_Diskretnaya-matematika-dlya-programmistov.248216.djvu', 'Him and I - G Eazy Halsey.mp3', 'homework 13.pdf', 'IMG000.jpg', 'IMG_4101.PNG', 'INHERITANCE.ipynb', 'Jah Khalib-На параллельных путях.mp3', 'JONY-Аллея (2).mp3', 'JONY-Аллея.mp3', 'Kolman_Zanimatelnaya-logika.685359.djvu', 'Kosmuse_cover_Дариға_жүрек_Медеу_Арынбаев.mp3', 'Kosmuse_cover_Сен_үшін_жаралғандаймын_Мейрамбек.mp3', 'Kosmuse_cover_Табайын_жолын_қалай_Мейрамбек_Бес.mp3', 'lab10.zip', 'lab11recur.zip', 'lab1_macro.xlsx', 'Labka1_outline_example(_).pdf', 'lab_1.xlsx', 'LAMBDA.ipynb', 'Lec1 Solving Linear systems.pdf', 'Lec11 Complex vector space. Similarity diagonalizability.pdf', 'Lec12 Similarity nilpotence.pdf', 'Lec13_Jordan form.pdf', 'lec1_Sets.pdf', 'Lec2 Linear geometry and reduced echelon form.pdf', 'Lec3 Definition of Vector Spaces and Linear Independence-2.pdf', 'Lec4 Vector Spaces. Basis and Dimension (2).pdf', 'Lec4 Vector Spaces. Basis and Dimension.pdf', 'Lec5 Maps Between Spaces. Isomorphism and Homomorphism.pdf', 'Lec6_Maps_Between_Spaces_Matrix_operations_and_Change_of_basis.pdf', 'Lec8_Projection,_Gram_Schmidt_Orthogonalization,_projection_into.pdf', 'Lec9 Determinants. definition, properties.pdf', 'linear hw9.pdf', 'Lipschutz, Lipson - Th and Prob of Discrete Math.pdf', 'monkyform.pdf', 'OBJECTS.ipynb', 'Odium - LXST CXNTURY.mp3', 'Ostemirova Uldana Discrete Structures.PDF', 'pp1_final.pdf', 'Programming Principles II syllabus.pdf', 'questions_and_answers.pdf', 'QUIZ PREPARATION.pdf', 'quiz1.pdf', 'Sadraddin - Kuz.mp3', 'Screenshot_20241202_105648_Firefox.jpg', 'Seminar 01_Operations on sets.pdf', 'Seminar 1.docx', 'Seminar 10.pdf', 'Seminar 11 (2).pdf', 'Seminar 11.pdf', 'Seminar 12 (2).pdf', 'Seminar 12.pdf', 'Seminar 13 (2).pdf', 'Seminar 2 (1).pdf', 'Seminar 2 (2).docx', 'Seminar 2 (3).docx', 'Seminar 2 (3).pdf', 'Seminar 2 (odd numbered tasks 1-34).pdf', 'Seminar 2.docx', 'Seminar 3 (2).docx', 'Seminar 3 (2).pdf', 'Seminar 3.docx', 'Seminar 4 (1).pdf', 'Seminar 4.docx', 'Seminar 46.pdf', 'Seminar 5 (2).pdf', 'Seminar 5 (3).pdf', 'Seminar 5 (4).pdf', 'Seminar 5.pdf', 'Seminar 6.docx', 'Seminar 6.pdf', 'Seminar 8 (2).pdf', 'Seminar 8.pdf', 'Seminar 9 (2).pdf', 'Seminar 9.pdf', 'Seminar lesson 1-2.pdf', 'Seminar lesson 1.pdf', 'Seminar2_DS_lol.pdf', 'Solution even Kenneth Rosen.pdf', 'Solution odd Kenneth Rosen.pdf', 'Syllabus ACM ICPC I 2023.pdf', 'Syllabus ACM ICPC II 2023.pdf', 'Syllabus discreate.pdf', 'Syllabus Linear Algebra for Engineers Fall 2024-2025.pdf', 'Syllabus Phys 1 (spring 2024).pdf', 'Syllabus(Issakhov,Bazarbaeva)_Discrete structures  (2).pdf', 'Syllabus(Issakhov,Bazarbaeva)_Discrete structures .pdf', 'The Weeknd feat. Ariana Grande-Die For You (Remix).mp3', 'TV Girl-Cigarettes out the Window.mp3', 'Zero variant.pdf', 'ɪʟʏᴀs_ᴘʀᴏᴅᴜᴄᴛɪᴏɴ_Напиши_письмо_магангитаре.mp3', 'айлық-тест-2-информатика (2).pdf', 'айлық-тест-2-информатика.pdf', 'айлық-тест-геометрия.pdf', 'айлық-тест-математика-2.pdf', 'айлық-тест-математика.pdf', 'айлық-тест.pdf', 'алгебра-домашка-3.pdf', 'алгебра-домашка-8.pdf', 'ат-4-математика.pdf', 'ағылшын-дебат.pdf', 'ГАЙД ПО СОСТАВЛЕНИЮ РАСПИСАНИЯ.pdf', 'геометрия-ст-1-ай-1-апта.pdf', 'геометрия-ст-1-ай-3-апта.pdf', 'геометрия-үй-жұмысы-7.pdf', 'график встреч.pdf', 'Дебат  (2).docx', 'Дебат .docx', 'дедлайн-кешігем-енді.pdf', 'дедлайн-кешігу-100%.pdf', 'Джумадильдаев_А_С_Элементы_дискретной_математики_часть_1_1.pdf', 'Дискретка силлабус(Джумик).docx', 'домашка-дискретка-4.pdf', 'ең_керемет_кураторға_математика_11_үй_жұмысы.pdf', 'жоспар.pdf', 'ИК силлабус 2024 осень КБТУ.docx', 'инструкция по FX.pptx', 'Инструкция_по_регистрации_студентов_на_дисциплины.pdf', 'информатика-конспект-6.pdf', 'информатика-қатемен-жұмыс-1.pdf', 'информатика-үж-7.pdf', 'информатика-үй-жұмысы-3.pdf', 'информатика-үй-жұмысы-4.pdf', 'информатика-үй-жұмысы-6.pdf', 'Кавказский шансон-Черные Глаза.mp3', 'калкулус-семинар-1.pdf', 'КЕСТЕ ЖАСАУ ЖӨНІНДЕГІ ГАЙД (2).pdf', 'КЕСТЕ ЖАСАУ ЖӨНІНДЕГІ ГАЙД.pdf', 'книга Джумадильдаева.pdf', 'конспект (2).pdf', 'конспект-10-информатика.pdf', 'конспект-11-информатика.pdf', 'конспект-11-математика.pdf', 'конспект-12-геометрия.pdf', 'конспект-17-математика.pdf', 'конспект-2-математика.pdf', 'конспект-20-математика.pdf', 'конспект-29-информатика.pdf', 'конспект-3-математика.pdf', 'конспект-34-математика.pdf', 'конспект-5-информатика.pdf', 'конспект-8-математика.pdf', 'конспект-9-10-информатика.pdf', 'конспект-9-математика.pdf', 'конспект-геометрия-11.pdf', 'конспект-дискретка-1.pdf', 'конспект-дискретка-2.pdf', 'конспект-дискретка-4.pdf', 'конспект-дискретка-5 (2).pdf', 'конспект-дискретка-5.pdf', 'конспект-информатика-1.pdf', 'конспект-информатика-13.pdf', 'конспект-информатика-14.pdf', 'конспект-информатика-15.pdf', 'конспект-информатика-16.pdf', 'конспект-информатика-19.pdf', 'конспект-информатика-2.pdf', 'конспект-информатика-20.pdf', 'конспект-информатика-27.pdf', 'конспект-информатика-28.pdf', 'конспект-информатика-3.pdf', 'конспект-информатика-30.pdf', 'конспект-информатика-31.pdf', 'конспект-информатика-32.pdf', 'конспект-информатика-4.pdf', 'конспект-информатика-7.pdf', 'конспект-информатика-8.pdf', 'конспект-информатика.pdf', 'конспект-математика-1.pdf', 'конспект-математика-10.pdf', 'конспект-математика-12.pdf', 'конспект-математика-13.pdf', 'конспект-математика-14.pdf', 'конспект-математика-15.pdf', 'конспект-математика-16.pdf', 'конспект-математика-27.pdf', 'конспект-математика-28.pdf', 'конспект-математика-29.pdf', 'конспект-математика-30.pdf', 'конспект-математика-33.pdf', 'конспект-математика-36.pdf', 'конспект-математика-4.pdf', 'конспект-математика-5.pdf', 'конспект-математика-6.pdf', 'конспект-математика-7.pdf', 'конспект-математика.pdf', 'конспект.pdf', 'кузиз-тест-тарих-1.pdf', 'кузиз-тест-тарих-2.pdf', 'кузиз-тест-тарих-4.pdf', 'кузиз-тест-қайталау-тарих-1.pdf', 'курс-степ-договор.pdf', 'линейка-домашка-10.pdf', 'линейка-домашка-12.pdf', 'линейка-домашка-8.pdf', 'линейка-домашка-9.pdf', 'линейка-домашка-бонус-11 (2).pdf', 'линейка-домашка-бонус-11.pdf', 'линейка-последний-дз.pdf', 'линейная-алгебра-домашка-2.pdf', 'Макс Корж - Пролетарка.mp3', 'математика-11-үй-жұмысы.pdf', 'математика-4-ай-3-апта.pdf', 'математика-қорытынды-тест.pdf', 'математика-үй-жұмысы-27.pdf', 'математика-үй-жұмысы-3.pdf', 'математика-үй-жұмысы-6.pdf', 'математика-үй-жұмысы-7.pdf', 'математиканың_ең_басты_жауы_х_ті_тауып_алдым.pdf', 'мақсат.pdf', 'миымды_шірітіп_біткен_while_дың_үй_жұмысы.pdf', 'МОТ-Капкан.mp3', 'мынау-while-дан-өткен-ғой.pdf', 'Не приму и даром - Navai Bahh Tee.mp3', 'Обновленный график встреч.pdf', 'Перекрестки - Мот.mp3', 'политология-конспект-2.pdf', 'политология-форма-и-конспект.pdf', 'политология.pdf', 'РУП АУ 23-24.PDF', 'с -с-1-казахстан-та -их.pdf', 'с.pdf', 'Снимок экрана 2025-01-18 в 8.53.58 PM.png', 'соңғы-ст-геометрия.pdf', 'соңғы-үй-жұмысы-геометрия.pdf', 'ст (2).pdf', 'ст-1-ай-1-апта-геометрия.pdf', 'ст-2-математика.pdf', 'ст-3-математика.pdf', 'ст-4-ай-1-апта.pdf', 'ст-4-ай-2-апта.pdf', 'ст-5-ай-1-апта.pdf', 'ст-5-математика.pdf', 'ст-информатика-3.pdf', 'ст-пересдача-100%.pdf', 'ст.pdf', 'ст_5_ай_3_апта_яғни_соңғы_математика_ст.pdf', 'тарихс-с -с.pdf', 'ТИМСКЕ КІРУ СІЛТЕМЕЛЕРІ.docx', 'Тишин И.И.  Дискретная математика.pdf', 'тт.pdf', 'учпучмак-7.pdf', 'Қайрат_Нұртас_Сырым_Исабаев_Қос_жүрек.mp3', 'қатемен-жұмыс-12-математика.pdf', 'қатемен-жұмыс-14-математика.pdf', 'қатемен-жұмыс-16-математика.pdf', 'қатемен-жұмыс-2.pdf', 'қатемен-жұмыс-3-геометрия.pdf', 'қатемен-жұмыс-4.pdf', 'қатемен-жұмыс-5-математика.pdf', 'қатемен-жұмыс-8-информатика.pdf', 'қатемен-жұмыс-9.pdf', 'қатемен-жұмыс-геометрия-12.pdf', 'қатемен-жұмыс-информатика-1.pdf', 'қатемен-жұмыс.pdf', 'қорытынды-тест-геометрия.pdf', 'қорытынды-тест-математика.pdf', 'қорытынды-тест.pdf', 'ҚТ_1_СРС_VI_XII_ғ_түрік_мемлекеттері_1 (2).docx', 'ҚТ_1_СРС_VI_XII_ғ_түрік_мемлекеттері_1 (3).docx', 'ҚТ_1_СРС_VI_XII_ғ_түрік_мемлекеттері_1.docx', 'үж-10-информатика.pdf', 'үж-14-информатика.pdf', 'үж-14-математика.pdf', 'үж-16-математика.pdf', 'үж-8.pdf', 'үж-9-информатика.pdf', 'үй-жұмысы-11-информатика.pdf', 'үй-жұмысы-12-математика.pdf', 'үй-жұмысы-13-математика.pdf', 'үй-жұмысы-14-информатика.pdf', 'үй-жұмысы-15-информатика.pdf', 'үй-жұмысы-15-математика.pdf', 'үй-жұмысы-16-информатика.pdf', 'үй-жұмысы-16-математика-new.pdf', 'үй-жұмысы-16-математика.pdf', 'үй-жұмысы-19-математика.pdf', 'үй-жұмысы-20-математика.pdf', 'үй-жұмысы-28-информатика.pdf', 'үй-жұмысы-28-математика.pdf', 'үй-жұмысы-29-информатика.pdf', 'үй-жұмысы-29-математика.pdf', 'үй-жұмысы-3-геометрия.pdf', 'үй-жұмысы-30-математика.pdf', 'үй-жұмысы-31-информатика.pdf', 'үй-жұмысы-32-информатика.pdf', 'үй-жұмысы-32-математика.pdf', 'үй-жұмысы-35-математика.pdf', 'үй-жұмысы-36-математика.pdf', 'үй-жұмысы-39-математика.pdf', 'үй-жұмысы-4-геометрия.pdf', 'үй-жұмысы-40-математика.pdf', 'үй-жұмысы-5-геометрия.pdf', 'үй-жұмысы-6-информатика (2).pdf', 'үй-жұмысы-6-информатика.pdf', 'үй-жұмысы-8-информатика.pdf', 'үй-жұмысы-9-геометрия.pdf', 'үй-жұмысы-9-математика.pdf', 'үй-жұмысы-геометрия-1.pdf', 'үй-жұмысы-геометрия-10.pdf', 'үй-жұмысы-геометрия-11.pdf', 'үй-жұмысы-геометрия-12.pdf', 'үй-жұмысы-геометрия-14.pdf', 'үй-жұмысы-геометрия-15.pdf', 'үй-жұмысы-геометрия-2.pdf', 'үй-жұмысы-геометрия-6.pdf', 'үй-жұмысы-геометрия-7.pdf', 'үй-жұмысы-геометрия-8.pdf', 'үй-жұмысы-гомотетия.pdf', 'үй-жұмысы-информатика-2.pdf', 'үй-жұмысы-информатика-27.pdf', 'үй-жұмысы-информатика-3.pdf', 'үй-жұмысы-информатика-30.pdf', 'үй-жұмысы-информатика-5.pdf', 'үй-жұмысы-информатика-7-new.pdf', 'үй-жұмысы-информатика-7-жаңа.pdf', 'үй-жұмысы-информатика.pdf', 'үй-жұмысы-математика-2.pdf', 'үй-жұмысы-математика-31.pdf', 'үй-жұмысы-математика-33.pdf', 'үй-жұмысы-математика-34.pdf', 'үй-жұмысы-математика-38.pdf', 'үй-жұмысы-математика-4.pdf', 'үй-жұмысы-математика-5.pdf']\n"
     ]
    }
   ],
   "source": [
    "import os\n",
    "zhol = input()\n",
    "if os.path.exists(zhol):\n",
    "    bar = os.listdir(zhol)\n",
    "    catalog = []\n",
    "    file = []\n",
    "    for i in bar:\n",
    "        nzhol = os.path.join(zhol, i)\n",
    "        if os.path.isdir(nzhol):\n",
    "            catalog.append(i)\n",
    "        elif os.path.isfile(nzhol):\n",
    "            file.append(i)\n",
    "    print(catalog)\n",
    "    print(file)\n",
    "    print(bar)\n",
    "else:\n",
    "    print(\"Try again\")"
   ]
  },
  {
   "cell_type": "code",
   "execution_count": 31,
   "id": "7ac8d9e3-91ff-40c5-8e9b-3d4ea944070d",
   "metadata": {},
   "outputs": [
    {
     "name": "stdin",
     "output_type": "stream",
     "text": [
      " C:\\Users\\a1mas\\OneDrive\\Документы\\Nessi 2025\n"
     ]
    },
    {
     "name": "stdout",
     "output_type": "stream",
     "text": [
      "There a road:  True\n",
      "Reading: True\n",
      "Writing: True\n",
      "For do:  True\n"
     ]
    }
   ],
   "source": [
    "import os\n",
    "zhol = input()\n",
    "print(\"There a road: \", os.access(zhol, os.F_OK))\n",
    "print(\"Reading:\", os.access(zhol, os.R_OK))\n",
    "print(\"Writing:\", os.access(zhol, os.W_OK))\n",
    "print(\"For do: \", os.access(zhol, os.X_OK))\n"
   ]
  },
  {
   "cell_type": "code",
   "execution_count": 35,
   "id": "d71cb079-05ef-4653-a968-66f8822eb892",
   "metadata": {},
   "outputs": [
    {
     "name": "stdin",
     "output_type": "stream",
     "text": [
      " C:\\Users\\a1mas\\OneDrive\\Документы\\Nessi 2025\n"
     ]
    },
    {
     "name": "stdout",
     "output_type": "stream",
     "text": [
      "There a correct way\n",
      "Catalog: C:\\Users\\a1mas\\OneDrive\\Документы\n",
      "File: Nessi 2025\n"
     ]
    }
   ],
   "source": [
    "import os\n",
    "zhol = input()\n",
    "if os.path.exists(zhol):\n",
    "    catalog, file = os.path.split(zhol)\n",
    "    print(\"There a correct way\")\n",
    "    print(\"Catalog:\", catalog)\n",
    "    print(\"File:\", file)\n",
    "else:\n",
    "    print(\"Try again\")"
   ]
  },
  {
   "cell_type": "code",
   "execution_count": 45,
   "id": "308dae65-7ac1-4b9b-9377-0f35a9b673e1",
   "metadata": {},
   "outputs": [
    {
     "name": "stdin",
     "output_type": "stream",
     "text": [
      " C:\\Users\\a1mas\\Downloads\\PP2\\LAB6\\Files.txt\n"
     ]
    },
    {
     "name": "stdout",
     "output_type": "stream",
     "text": [
      "7\n"
     ]
    }
   ],
   "source": [
    "import os\n",
    "zhol = input()\n",
    "if os.path.exists(zhol):\n",
    "    catalog , file = os.path.split(zhol)\n",
    "    with open(file, \"r\", encoding = \"utf-8\") as doc:\n",
    "        zholdar = doc.readlines()\n",
    "        print(len(zholdar))\n",
    "else:\n",
    "    print(\"Try again\")"
   ]
  },
  {
   "cell_type": "code",
   "execution_count": 57,
   "id": "f404d631-6d51-4c0b-bf17-00de2cd4c5b8",
   "metadata": {},
   "outputs": [
    {
     "name": "stdin",
     "output_type": "stream",
     "text": [
      " C:\\Users\\a1mas\\Downloads\\PP2\\LAB6\\files2.txt\n",
      " Elgeldi KRAW\n"
     ]
    },
    {
     "name": "stdout",
     "output_type": "stream",
     "text": [
      "Succesful\n"
     ]
    }
   ],
   "source": [
    "import os\n",
    "zhol = input()\n",
    "write = [str(i) for i in input().split()]\n",
    "catalog, file = os.path.split(zhol)\n",
    "with open(file, \"w\", encoding = \"utf-8\") as doc:\n",
    "    for i in write:\n",
    "        doc.write(i + '\\n')\n",
    "print(\"Succesful\")"
   ]
  },
  {
   "cell_type": "code",
   "execution_count": 59,
   "id": "116fb868-51a8-47af-a449-e3857fc3c158",
   "metadata": {},
   "outputs": [
    {
     "name": "stdout",
     "output_type": "stream",
     "text": [
      "Succesful\n",
      "Succesful\n",
      "Succesful\n",
      "Succesful\n",
      "Succesful\n",
      "Succesful\n",
      "Succesful\n",
      "Succesful\n",
      "Succesful\n",
      "Succesful\n",
      "Succesful\n",
      "Succesful\n",
      "Succesful\n",
      "Succesful\n",
      "Succesful\n",
      "Succesful\n",
      "Succesful\n",
      "Succesful\n",
      "Succesful\n",
      "Succesful\n",
      "Succesful\n",
      "Succesful\n",
      "Succesful\n",
      "Succesful\n",
      "Succesful\n",
      "Succesful\n"
     ]
    }
   ],
   "source": [
    "a = ['A', 'B', 'C', 'D', 'E', 'F', 'G', 'H', 'I', 'J', 'K', 'L', 'M', 'N', 'O', 'P', 'Q', 'R', 'S', 'T', 'U', 'V', 'W', 'X', 'Y', 'Z']\n",
    "for i in a:\n",
    "    name = f\"{i}.txt\"\n",
    "    with open(name, \"w\", encoding = \"utf-8\") as doc:\n",
    "        doc.write(f\"{i} file was created \\n\")\n",
    "    print(\"Succesful\")"
   ]
  },
  {
   "cell_type": "code",
   "execution_count": 67,
   "id": "d2e36f33-a7ba-4319-903d-da39d239124c",
   "metadata": {},
   "outputs": [
    {
     "name": "stdin",
     "output_type": "stream",
     "text": [
      " C:\\Users\\a1mas\\Downloads\\PP2\\LAB6\\A.txt\n",
      " C:\\Users\\a1mas\\Downloads\\PP2\\LAB6\\B.txt\n"
     ]
    },
    {
     "name": "stdout",
     "output_type": "stream",
     "text": [
      "Succesful\n"
     ]
    }
   ],
   "source": [
    "import os\n",
    "a = input()\n",
    "b = input()\n",
    "with open(a,\"rb\") as doc:\n",
    "    barlq = doc.read()\n",
    "with open(b,'wb') as doc1:\n",
    "    doc1.write(barlq)\n",
    "print(\"Succesful\")"
   ]
  },
  {
   "cell_type": "code",
   "execution_count": 69,
   "id": "d961e5ec-2ae1-45ec-bff6-5d75bbf34ed0",
   "metadata": {},
   "outputs": [
    {
     "name": "stdin",
     "output_type": "stream",
     "text": [
      " C:\\Users\\a1mas\\Downloads\\PP2\\LAB6\\delete.txt\n"
     ]
    },
    {
     "name": "stdout",
     "output_type": "stream",
     "text": [
      "Succesful\n"
     ]
    }
   ],
   "source": [
    "import os\n",
    "a = input()\n",
    "if os.path.exists(a):\n",
    "    if os.access(a,os.W_OK):\n",
    "        os.remove(a)\n",
    "        print(\"Succesful\")\n",
    "    else:\n",
    "        print(\"Try again\")\n",
    "else:\n",
    "    print(\"Try again\")"
   ]
  },
  {
   "cell_type": "code",
   "execution_count": null,
   "id": "7a7e99ba-0398-4222-aeb1-2772b865f362",
   "metadata": {},
   "outputs": [],
   "source": []
  }
 ],
 "metadata": {
  "kernelspec": {
   "display_name": "Python 3 (ipykernel)",
   "language": "python",
   "name": "python3"
  },
  "language_info": {
   "codemirror_mode": {
    "name": "ipython",
    "version": 3
   },
   "file_extension": ".py",
   "mimetype": "text/x-python",
   "name": "python",
   "nbconvert_exporter": "python",
   "pygments_lexer": "ipython3",
   "version": "3.12.7"
  }
 },
 "nbformat": 4,
 "nbformat_minor": 5
}
