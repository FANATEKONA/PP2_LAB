{
 "cells": [
  {
   "cell_type": "code",
   "execution_count": 25,
   "id": "25ad2071-e4ad-4576-9dc4-7fa6f11f7ee2",
   "metadata": {},
   "outputs": [
    {
     "name": "stdout",
     "output_type": "stream",
     "text": [
      " ads\n"
     ]
    },
    {
     "name": "stdout",
     "output_type": "stream",
     "text": [
      "ADS\n"
     ]
    }
   ],
   "source": [
    "class stm:\n",
    "    def __init__(self):\n",
    "        self.a = \"\"\n",
    "    def gts(self):\n",
    "        self.a = input()\n",
    "    def prt(self):\n",
    "        print(self.a.upper())\n",
    "b = stm()\n",
    "b.gts()\n",
    "b.prt()"
   ]
  },
  {
   "cell_type": "code",
   "execution_count": 39,
   "id": "43a88755-6bc1-4363-9eae-4789020361c4",
   "metadata": {},
   "outputs": [
    {
     "name": "stdout",
     "output_type": "stream",
     "text": [
      " 5\n"
     ]
    },
    {
     "name": "stdout",
     "output_type": "stream",
     "text": [
      "25\n"
     ]
    },
    {
     "name": "stdout",
     "output_type": "stream",
     "text": [
      " 4\n",
      " 5\n"
     ]
    },
    {
     "name": "stdout",
     "output_type": "stream",
     "text": [
      "20\n"
     ]
    }
   ],
   "source": [
    "class shape():\n",
    "    def __init__(self):\n",
    "        return 0\n",
    "class square(shape):\n",
    "    def __init__(self, length):\n",
    "        self.length = length\n",
    "    def area(self):\n",
    "        return self.length ** 2\n",
    "class rectangle(shape):\n",
    "    def __init__(self, lenth, width):\n",
    "        self.lenth = lenth\n",
    "        self.width = width\n",
    "    def area(self):\n",
    "        return self.lenth * self.width\n",
    "n = int(input())\n",
    "b = square(n)\n",
    "print(b.area())\n",
    "fir = int(input())\n",
    "sec = int(input())\n",
    "d = rectangle(fir,sec)\n",
    "print(d.area())"
   ]
  },
  {
   "cell_type": "code",
   "execution_count": 59,
   "id": "2b98d8c9-0857-4fbc-b18b-b060591f6c3f",
   "metadata": {},
   "outputs": [
    {
     "name": "stdout",
     "output_type": "stream",
     "text": [
      " 1\n",
      " 1\n"
     ]
    },
    {
     "name": "stdout",
     "output_type": "stream",
     "text": [
      "1 1\n"
     ]
    },
    {
     "name": "stdout",
     "output_type": "stream",
     "text": [
      " 2\n",
      " 2\n",
      " 4\n",
      " 4\n"
     ]
    },
    {
     "data": {
      "text/plain": [
       "2.8284271247461903"
      ]
     },
     "execution_count": 59,
     "metadata": {},
     "output_type": "execute_result"
    }
   ],
   "source": [
    "import math\n",
    "class point():\n",
    "    def __init__(self, x , y):\n",
    "        self.x = x\n",
    "        self.y = y\n",
    "    def show(self):\n",
    "        print(self.x , self.y)\n",
    "    def move(self, oth):\n",
    "        self.x = oth.x\n",
    "        self.y = oth.y\n",
    "    def dist(self, ot):\n",
    "        return math.sqrt((self.x - ot.x) ** 2 + (self.y - ot.y) ** 2)\n",
    "x = int(input())\n",
    "y = int(input())\n",
    "a = point(x,y)\n",
    "a.show()\n",
    "x1 = int(input())\n",
    "y1 = int(input())\n",
    "b = point(x1,y1)\n",
    "a.move(b)\n",
    "x2 = int(input())\n",
    "y2 = int(input())\n",
    "c = point(x2,y2)\n",
    "a.dist(c)"
   ]
  },
  {
   "cell_type": "code",
   "execution_count": 63,
   "id": "68aaf624-84af-4b37-bca2-44e26b199ab3",
   "metadata": {},
   "outputs": [
    {
     "name": "stdout",
     "output_type": "stream",
     "text": [
      " 545\n",
      " 1\n"
     ]
    },
    {
     "name": "stdout",
     "output_type": "stream",
     "text": [
      "Deposited 1. New balance: 546\n"
     ]
    },
    {
     "name": "stdout",
     "output_type": "stream",
     "text": [
      " 46\n"
     ]
    },
    {
     "name": "stdout",
     "output_type": "stream",
     "text": [
      "Withdrew 46. New balance: 500\n"
     ]
    }
   ],
   "source": [
    "class bank:\n",
    "    def __init__(self,owner,balance):\n",
    "        self.owner = owner\n",
    "        self.balance = balance\n",
    "    def deposit(self, amount):\n",
    "        self.balance += amount\n",
    "        print(f\"Deposited {amount}. New balance: {self.balance}\")\n",
    "    def withdraw(self,amount):\n",
    "        if self.balance < amount:\n",
    "            print(\"Insufficient funds!\")\n",
    "        else:\n",
    "            self.balance -= amount\n",
    "            print(f\"Withdrew {amount}. New balance: {self.balance}\")\n",
    "\n",
    "fir = int(input())\n",
    "a = bank(\"E\", fir)\n",
    "dep = int(input())\n",
    "a.deposit(dep)\n",
    "get = int(input())\n",
    "a.withdraw(get)\n",
    "                "
   ]
  },
  {
   "cell_type": "code",
   "execution_count": 3,
   "id": "b4c68012-1c37-44f4-bd27-eddcb94da849",
   "metadata": {},
   "outputs": [
    {
     "name": "stdout",
     "output_type": "stream",
     "text": [
      "Prime numbers: [3, 5, 7]\n"
     ]
    }
   ],
   "source": [
    "def is_prime(n):\n",
    "    if n < 2:\n",
    "        return False\n",
    "    for i in range(2, n):\n",
    "        if n % i == 0:\n",
    "            return False\n",
    "    return True\n",
    "i = [int(x) for x in input().split()]\n",
    "pn = list(filter(lambda x: is_prime(x), i))\n",
    "print(\"Prime numbers:\", pn)"
   ]
  },
  {
   "cell_type": "code",
   "execution_count": null,
   "id": "d40eb8bd-4e95-4464-b785-052706a63e69",
   "metadata": {},
   "outputs": [],
   "source": []
  }
 ],
 "metadata": {
  "kernelspec": {
   "display_name": "Python 3",
   "language": "python",
   "name": "python3"
  },
  "language_info": {
   "codemirror_mode": {
    "name": "ipython",
    "version": 3
   },
   "file_extension": ".py",
   "mimetype": "text/x-python",
   "name": "python",
   "nbconvert_exporter": "python",
   "pygments_lexer": "ipython3",
   "version": "3.12.1"
  }
 },
 "nbformat": 4,
 "nbformat_minor": 5
}
