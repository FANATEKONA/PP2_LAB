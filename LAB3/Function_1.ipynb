{
 "cells": [
  {
   "cell_type": "code",
   "execution_count": 3,
   "id": "3a0d9f4c-f171-413c-a698-e2bd8b6983fe",
   "metadata": {},
   "outputs": [
    {
     "name": "stdout",
     "output_type": "stream",
     "text": [
      " 45\n"
     ]
    },
    {
     "name": "stdout",
     "output_type": "stream",
     "text": [
      "1275.7285395\n"
     ]
    }
   ],
   "source": [
    "def convert():\n",
    "    a = int(input())\n",
    "    print(a*28.3495231)\n",
    "convert()"
   ]
  },
  {
   "cell_type": "code",
   "execution_count": 3,
   "id": "73e29741-866a-44c1-b6fe-4909ef025d2d",
   "metadata": {},
   "outputs": [
    {
     "name": "stdout",
     "output_type": "stream",
     "text": [
      " 45\n"
     ]
    },
    {
     "name": "stdout",
     "output_type": "stream",
     "text": [
      "7.222222222222222\n"
     ]
    }
   ],
   "source": [
    "def convert():\n",
    "    F = int(input())\n",
    "    print( (5 / 9) * (F - 32))\n",
    "convert()"
   ]
  },
  {
   "cell_type": "code",
   "execution_count": 17,
   "id": "c210c75d-12ae-444e-917c-a490d1bfc565",
   "metadata": {},
   "outputs": [
    {
     "name": "stdout",
     "output_type": "stream",
     "text": [
      " 35\n",
      " 94\n"
     ]
    },
    {
     "name": "stdout",
     "output_type": "stream",
     "text": [
      "Rabbit and Chicken:  12 23\n"
     ]
    }
   ],
   "source": [
    "def solution(head,legs):\n",
    "    if legs % 2 != 0 or head == 0 or head > legs:\n",
    "        print(\"No solution\")\n",
    "    else:\n",
    "        r = int((legs-2*head)/2)\n",
    "        c = int(head - r)\n",
    "        print(\"Rabbit and Chicken: \",  r, c)\n",
    "head = int(input())\n",
    "legs = int(input())\n",
    "solution(head, legs)"
   ]
  },
  {
   "cell_type": "code",
   "execution_count": 13,
   "id": "ee060289-0e1d-4dfd-922d-74e5f4dc4452",
   "metadata": {},
   "outputs": [
    {
     "name": "stdout",
     "output_type": "stream",
     "text": [
      "2\n",
      "3\n",
      "5\n",
      "7\n"
     ]
    }
   ],
   "source": [
    "a = [2,3,4,5,6,7,8,9,10]\n",
    "for i in a:\n",
    "    ok = True\n",
    "    for j in range(2,i):\n",
    "        if i%j==0:\n",
    "            ok = False\n",
    "            break\n",
    "    if ok:\n",
    "        print(i)\n"
   ]
  },
  {
   "cell_type": "code",
   "execution_count": 163,
   "id": "450358eb-a7f4-4cbf-a289-ec87589d7a9d",
   "metadata": {},
   "outputs": [
    {
     "name": "stdout",
     "output_type": "stream",
     "text": [
      " 5 546 3 2 8 \n"
     ]
    },
    {
     "name": "stdout",
     "output_type": "stream",
     "text": [
      "5\n",
      "3\n",
      "2\n"
     ]
    }
   ],
   "source": [
    "a = [int(x) for x in input().split()]\n",
    "for i in a:\n",
    "    if i == 1:\n",
    "        continue\n",
    "    ok = True\n",
    "    for j in range(2,i):\n",
    "        if i%j==0:\n",
    "            ok = False\n",
    "            break\n",
    "    if ok:\n",
    "        print(i)\n"
   ]
  },
  {
   "cell_type": "code",
   "execution_count": 161,
   "id": "4021c71d-e781-42c4-8b6c-be0512fe7f9a",
   "metadata": {},
   "outputs": [
    {
     "name": "stdout",
     "output_type": "stream",
     "text": [
      " abd \n"
     ]
    },
    {
     "name": "stdout",
     "output_type": "stream",
     "text": [
      "abd \n",
      "ab d\n",
      "adb \n",
      "ad b\n",
      "a bd\n",
      "a db\n",
      "bad \n",
      "ba d\n",
      "bda \n",
      "bd a\n",
      "b ad\n",
      "b da\n",
      "dab \n",
      "da b\n",
      "dba \n",
      "db a\n",
      "d ab\n",
      "d ba\n",
      " abd\n",
      " adb\n",
      " bad\n",
      " bda\n",
      " dab\n",
      " dba\n"
     ]
    }
   ],
   "source": [
    "from itertools import permutations\n",
    "a = input()\n",
    "x = [''.join(z) for z in permutations(a)]\n",
    "for z in x:\n",
    "    print(z)"
   ]
  },
  {
   "cell_type": "code",
   "execution_count": 75,
   "id": "67de76d9-4e39-4151-a85a-67ebc837441c",
   "metadata": {},
   "outputs": [
    {
     "name": "stdout",
     "output_type": "stream",
     "text": [
      " We are ready\n"
     ]
    },
    {
     "name": "stdout",
     "output_type": "stream",
     "text": [
      " ready are We\n"
     ]
    }
   ],
   "source": [
    "a = input().split()\n",
    "x = len(a)\n",
    "s = ''\n",
    "for i in range(x-1,-1,-1):\n",
    "    s+=' ' + a[i]\n",
    "print(s)"
   ]
  },
  {
   "cell_type": "code",
   "execution_count": 159,
   "id": "544299da-4c16-4d3d-ba22-abed6e635202",
   "metadata": {},
   "outputs": [
    {
     "name": "stdout",
     "output_type": "stream",
     "text": [
      " 45 2 3 4 3\n"
     ]
    },
    {
     "data": {
      "text/plain": [
       "False"
      ]
     },
     "execution_count": 159,
     "metadata": {},
     "output_type": "execute_result"
    }
   ],
   "source": [
    "def has_33(a):\n",
    "    for i in range(len(a)-1):\n",
    "        if a[i]== 3 and a[i+1]==3:\n",
    "            return True\n",
    "    return False\n",
    "a = [int(x) for x in input().split()]\n",
    "has_33(a)"
   ]
  },
  {
   "cell_type": "code",
   "execution_count": 11,
   "id": "23879ff6-7c27-45cd-976e-f6940740b927",
   "metadata": {},
   "outputs": [
    {
     "data": {
      "text/plain": [
       "True"
      ]
     },
     "execution_count": 11,
     "metadata": {},
     "output_type": "execute_result"
    }
   ],
   "source": [
    "def has_007(a):\n",
    "    b = []\n",
    "    for i in a:\n",
    "        if i == 7 or i == 0:\n",
    "            b.append(i)\n",
    "    for i in range(len(b)-2):\n",
    "        if b[i]==0 and b[i+1]==0 and b[i+2]==7:\n",
    "            return True\n",
    "    return False\n",
    "\n",
    "a = [int(x) for x in input().split()]\n",
    "has_007(a)"
   ]
  },
  {
   "cell_type": "code",
   "execution_count": 127,
   "id": "dafe2f97-3c26-41de-911d-9b622d17ffcc",
   "metadata": {},
   "outputs": [
    {
     "name": "stdout",
     "output_type": "stream",
     "text": [
      " 5\n"
     ]
    },
    {
     "name": "stdout",
     "output_type": "stream",
     "text": [
      "523.3333333333333\n"
     ]
    }
   ],
   "source": [
    "r = float(input())\n",
    "print(4/3*(3.14 * (r**3)))"
   ]
  },
  {
   "cell_type": "code",
   "execution_count": 175,
   "id": "714a6b7a-65b2-481a-b3e1-640bdc9cc681",
   "metadata": {},
   "outputs": [
    {
     "name": "stdout",
     "output_type": "stream",
     "text": [
      " as asd asd\n"
     ]
    },
    {
     "name": "stdout",
     "output_type": "stream",
     "text": [
      "['as', 'asd']\n"
     ]
    }
   ],
   "source": [
    "def uni(a):\n",
    "    res = [a[0]] \n",
    "    for i in a:\n",
    "        ok = True\n",
    "        for j in res:\n",
    "            if i == j:\n",
    "                ok = False\n",
    "                break;\n",
    "        if ok:\n",
    "            res.append(i)\n",
    "    return res;\n",
    "a = [str(i) for i in input().split()] \n",
    "print(uni(a))"
   ]
  },
  {
   "cell_type": "code",
   "execution_count": 149,
   "id": "fa0096ab-5118-47d6-8a03-874c51345158",
   "metadata": {},
   "outputs": [
    {
     "name": "stdout",
     "output_type": "stream",
     "text": [
      " 5465\n"
     ]
    },
    {
     "name": "stdout",
     "output_type": "stream",
     "text": [
      "False\n"
     ]
    }
   ],
   "source": [
    "def pal(a):\n",
    "    for i in range(0,len(a)):\n",
    "        if a[i]!=a[len(a)-i-1]:\n",
    "            return False\n",
    "    return True\n",
    "\n",
    "b = input()\n",
    "print(pal(b))"
   ]
  },
  {
   "cell_type": "code",
   "execution_count": 177,
   "id": "00c7e770-65a1-4c86-8804-380f1ec6eba6",
   "metadata": {},
   "outputs": [
    {
     "name": "stdout",
     "output_type": "stream",
     "text": [
      " 4 5 6 \n"
     ]
    },
    {
     "name": "stdout",
     "output_type": "stream",
     "text": [
      "****\n",
      "*****\n",
      "******\n"
     ]
    }
   ],
   "source": [
    "def histo(a):\n",
    "    for i in a:\n",
    "        print(\"*\"*i)\n",
    "a = [int(x) for x in input().split()]\n",
    "histo(a)"
   ]
  },
  {
   "cell_type": "code",
   "execution_count": 2,
   "id": "3d8e7ec8-d09f-466a-8c70-7e57ea3bc661",
   "metadata": {},
   "outputs": [
    {
     "name": "stdout",
     "output_type": "stream",
     "text": [
      "\n",
      "Well, пы, I am thinking of a number between 1 and 20.\n",
      "Your guess is too low.\n",
      "Your guess is too low.\n",
      "Your guess is too high.\n",
      "Your guess is too high.\n",
      "Good job, пы! You guessed my number in 5 guesses!\n"
     ]
    }
   ],
   "source": [
    "import random\n",
    "def guess_the_number():\n",
    "    number_to_guess = random.randint(1, 20)\n",
    "    name = input(\"Hello! What is your name?\\n\")\n",
    "    print(f\"\\nWell, {name}, I am thinking of a number between 1 and 20.\")\n",
    "    guess_count = 0\n",
    "    while True:\n",
    "        guess = int(input(\"Take a guess.\\n\"))\n",
    "        guess_count += 1\n",
    "        if guess < number_to_guess:\n",
    "            print(\"Your guess is too low.\")\n",
    "        elif guess > number_to_guess:\n",
    "            print(\"Your guess is too high.\")\n",
    "        else:\n",
    "            print(f\"Good job, {name}! You guessed my number in {guess_count} guesses!\")\n",
    "            break\n",
    "guess_the_number()"
   ]
  },
  {
   "cell_type": "code",
   "execution_count": 4,
   "id": "2901a327-2770-4049-86b6-fbdf5759234e",
   "metadata": {},
   "outputs": [
    {
     "data": {
      "text/plain": [
       "[12, 54, 65, 655, 21]"
      ]
     },
     "execution_count": 4,
     "metadata": {},
     "output_type": "execute_result"
    }
   ],
   "source": [
    "from functions import uni\n",
    "\n",
    "a = [int(x) for x in input().split()]\n",
    "uni(a)"
   ]
  },
  {
   "cell_type": "code",
   "execution_count": null,
   "id": "7f179efb-6f8e-42f9-9a23-efad8cac46a5",
   "metadata": {},
   "outputs": [],
   "source": []
  }
 ],
 "metadata": {
  "kernelspec": {
   "display_name": "Python 3",
   "language": "python",
   "name": "python3"
  },
  "language_info": {
   "codemirror_mode": {
    "name": "ipython",
    "version": 3
   },
   "file_extension": ".py",
   "mimetype": "text/x-python",
   "name": "python",
   "nbconvert_exporter": "python",
   "pygments_lexer": "ipython3",
   "version": "3.12.1"
  }
 },
 "nbformat": 4,
 "nbformat_minor": 5
}
