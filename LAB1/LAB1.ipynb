{
 "cells": [
  {
   "cell_type": "markdown",
   "id": "c279a607-994a-4926-a5db-42ddc2c1ff69",
   "metadata": {},
   "source": [
    "Example 1"
   ]
  },
  {
   "cell_type": "code",
   "execution_count": 5,
   "id": "d31cc1a2-521c-43e5-87c6-2f02351966c8",
   "metadata": {
    "scrolled": true
   },
   "outputs": [
    {
     "name": "stdout",
     "output_type": "stream",
     "text": [
      "Hello world\n"
     ]
    }
   ],
   "source": [
    "print(\"Hello world\")"
   ]
  },
  {
   "cell_type": "markdown",
   "id": "75ad00e8-af42-4f3f-9ee2-d6d7f5d7a53e",
   "metadata": {},
   "source": [
    "Example 2"
   ]
  },
  {
   "cell_type": "code",
   "execution_count": 7,
   "id": "22da9498-a075-4a63-89b7-75b33ff16243",
   "metadata": {},
   "outputs": [
    {
     "name": "stdout",
     "output_type": "stream",
     "text": [
      "3.12.7 | packaged by Anaconda, Inc. | (main, Oct  4 2024, 13:17:27) [MSC v.1929 64 bit (AMD64)]\n"
     ]
    }
   ],
   "source": [
    "import sys\n",
    "\n",
    "print(sys.version)\n"
   ]
  },
  {
   "cell_type": "markdown",
   "id": "985122a6-af2c-4e47-b428-6e23c4892759",
   "metadata": {},
   "source": [
    "Example 3"
   ]
  },
  {
   "cell_type": "code",
   "execution_count": 10,
   "id": "1cd63026-3875-49cd-97d8-81ecc183575d",
   "metadata": {},
   "outputs": [
    {
     "name": "stdout",
     "output_type": "stream",
     "text": [
      "Five is greater than two!\n"
     ]
    }
   ],
   "source": [
    "if 5 > 2:\n",
    "  print(\"Five is greater than two!\")"
   ]
  },
  {
   "cell_type": "markdown",
   "id": "a24c6e83-64a7-495a-8c5a-66aaae345930",
   "metadata": {},
   "source": [
    "Example 4"
   ]
  },
  {
   "cell_type": "code",
   "execution_count": 13,
   "id": "54cc34d2-a499-4b92-9658-4f456e45806b",
   "metadata": {},
   "outputs": [
    {
     "name": "stdout",
     "output_type": "stream",
     "text": [
      "Five is greater than two!\n",
      "Five is greater than two!\n"
     ]
    }
   ],
   "source": [
    "if 5 > 2:\n",
    " print(\"Five is greater than two!\") \n",
    "if 5 > 2:\n",
    "        print(\"Five is greater than two!\") "
   ]
  },
  {
   "cell_type": "markdown",
   "id": "ecace14c-3775-4333-aad9-f23fe1723afc",
   "metadata": {},
   "source": [
    "Example 5"
   ]
  },
  {
   "cell_type": "code",
   "execution_count": 16,
   "id": "0b93f12a-3f4a-4e3a-a721-95e7487569fa",
   "metadata": {},
   "outputs": [],
   "source": [
    "x = 5\n",
    "y = \"Hello, World!\""
   ]
  },
  {
   "cell_type": "markdown",
   "id": "e46b7594-c7ab-406c-a947-7aaceea098ef",
   "metadata": {},
   "source": [
    "Example 6"
   ]
  },
  {
   "cell_type": "code",
   "execution_count": 19,
   "id": "132345f4-965f-4eb6-af80-8fe440fdfdb8",
   "metadata": {},
   "outputs": [
    {
     "name": "stdout",
     "output_type": "stream",
     "text": [
      "Hello, World!\n"
     ]
    }
   ],
   "source": [
    "#This is a comment.\n",
    "print(\"Hello, World!\")"
   ]
  },
  {
   "cell_type": "markdown",
   "id": "22e64c97-1056-4a0a-9b55-594d516f098a",
   "metadata": {},
   "source": [
    "Example 7"
   ]
  },
  {
   "cell_type": "code",
   "execution_count": 22,
   "id": "c5169fd0-e2d5-4750-a776-edc5b8095c84",
   "metadata": {},
   "outputs": [
    {
     "name": "stdout",
     "output_type": "stream",
     "text": [
      "Hello, World!\n"
     ]
    }
   ],
   "source": [
    "print(\"Hello, World!\") #This is a comment"
   ]
  },
  {
   "cell_type": "markdown",
   "id": "564436d1-7225-4285-a62f-e539ddf4022b",
   "metadata": {},
   "source": [
    "Example 8"
   ]
  },
  {
   "cell_type": "code",
   "execution_count": 25,
   "id": "7c681f30-2488-43a0-8aaa-2ef5ed1f1ca4",
   "metadata": {},
   "outputs": [
    {
     "name": "stdout",
     "output_type": "stream",
     "text": [
      "Cheers, Mate!\n"
     ]
    }
   ],
   "source": [
    "#print(\"Hello, World!\")\n",
    "print(\"Cheers, Mate!\")"
   ]
  },
  {
   "cell_type": "markdown",
   "id": "57dbac05-2d61-4867-9980-a21bf3627f8f",
   "metadata": {},
   "source": [
    "Example 9"
   ]
  },
  {
   "cell_type": "code",
   "execution_count": 29,
   "id": "46661188-3af7-42eb-a309-11fa29a5f402",
   "metadata": {},
   "outputs": [
    {
     "name": "stdout",
     "output_type": "stream",
     "text": [
      "Hello, World!\n"
     ]
    }
   ],
   "source": [
    "#This is a comment\n",
    "#written in\n",
    "#more than just one line\n",
    "print(\"Hello, World!\")"
   ]
  },
  {
   "cell_type": "markdown",
   "id": "3b7b06b9-7b86-4186-b021-af90ce6f3b67",
   "metadata": {},
   "source": [
    "Example 10"
   ]
  },
  {
   "cell_type": "code",
   "execution_count": 32,
   "id": "0532114c-2255-4ea5-8eef-80d3804da524",
   "metadata": {},
   "outputs": [
    {
     "name": "stdout",
     "output_type": "stream",
     "text": [
      "Hello, World!\n"
     ]
    }
   ],
   "source": [
    "\"\"\"\n",
    "This is a comment\n",
    "written in\n",
    "more than just one line\n",
    "\"\"\"\n",
    "print(\"Hello, World!\")"
   ]
  },
  {
   "cell_type": "markdown",
   "id": "aad84762-4898-4013-b8a3-b4c2758ab459",
   "metadata": {},
   "source": [
    "Example 11"
   ]
  },
  {
   "cell_type": "code",
   "execution_count": 35,
   "id": "c6058e4b-0467-4a10-839b-85e24fa3f77f",
   "metadata": {},
   "outputs": [
    {
     "name": "stdout",
     "output_type": "stream",
     "text": [
      "5\n",
      "John\n"
     ]
    }
   ],
   "source": [
    "x = 5\n",
    "y = \"John\"\n",
    "print(x)\n",
    "print(y)"
   ]
  },
  {
   "cell_type": "markdown",
   "id": "3dcdd802-8ae4-4f6e-ade4-9fe383e4aa9b",
   "metadata": {},
   "source": [
    "Example 12"
   ]
  },
  {
   "cell_type": "code",
   "execution_count": 38,
   "id": "3bb43e5c-d789-4ff5-91ef-6cc1473c91d3",
   "metadata": {},
   "outputs": [
    {
     "name": "stdout",
     "output_type": "stream",
     "text": [
      "Sally\n"
     ]
    }
   ],
   "source": [
    "x = 5 \n",
    "x = \"Sally\"\n",
    "print(x) "
   ]
  },
  {
   "cell_type": "markdown",
   "id": "f8e9e91c-6c4a-4e2b-b756-aeda74190f18",
   "metadata": {},
   "source": [
    "Example 13 "
   ]
  },
  {
   "cell_type": "code",
   "execution_count": 41,
   "id": "73e4d351-8df6-4a7d-b9c9-eed5d57b4c00",
   "metadata": {},
   "outputs": [],
   "source": [
    "x = str(3)   \n",
    "y = int(3)    \n",
    "z = float(3)"
   ]
  },
  {
   "cell_type": "markdown",
   "id": "deab5455-c1e8-495b-a6a2-1aee4f0e74fb",
   "metadata": {},
   "source": [
    "Example 14"
   ]
  },
  {
   "cell_type": "code",
   "execution_count": 44,
   "id": "e9df6aca-5603-4a1e-b638-db1dac41473e",
   "metadata": {},
   "outputs": [
    {
     "name": "stdout",
     "output_type": "stream",
     "text": [
      "<class 'int'>\n",
      "<class 'str'>\n"
     ]
    }
   ],
   "source": [
    "x = 5\n",
    "y = \"John\"\n",
    "print(type(x))\n",
    "print(type(y))"
   ]
  },
  {
   "cell_type": "markdown",
   "id": "af3e67a7-3852-4bed-9ef3-58d0b5bde18e",
   "metadata": {},
   "source": [
    "Example 15"
   ]
  },
  {
   "cell_type": "code",
   "execution_count": 47,
   "id": "3565a991-5146-4f1d-a473-5f6e497cb35a",
   "metadata": {},
   "outputs": [],
   "source": [
    "x = \"John\"\n",
    "# is the same as\n",
    "x = 'John'"
   ]
  },
  {
   "cell_type": "markdown",
   "id": "9321e770-c1bf-4777-983f-e30955db36fd",
   "metadata": {},
   "source": [
    "Example 16"
   ]
  },
  {
   "cell_type": "code",
   "execution_count": 50,
   "id": "74861bf1-6cd0-4804-9240-b76343bd1612",
   "metadata": {},
   "outputs": [],
   "source": [
    "a = 4\n",
    "A = \"Sally\"\n",
    "#A will not overwrite a"
   ]
  },
  {
   "cell_type": "markdown",
   "id": "7ac42800-9934-4021-be2e-1a4b9f49f39a",
   "metadata": {},
   "source": [
    "Example 17"
   ]
  },
  {
   "cell_type": "code",
   "execution_count": 53,
   "id": "b56424f0-7292-467b-a5c6-892df701d8c9",
   "metadata": {},
   "outputs": [],
   "source": [
    "myvar = \"John\"\n",
    "my_var = \"John\"\n",
    "_my_var = \"John\"\n",
    "myVar = \"John\"\n",
    "MYVAR = \"John\"\n",
    "myvar2 = \"John\""
   ]
  },
  {
   "cell_type": "markdown",
   "id": "381eb013-7ace-44f1-af41-b9797c1b9522",
   "metadata": {},
   "source": [
    "Example 18"
   ]
  },
  {
   "cell_type": "code",
   "execution_count": 56,
   "id": "161f5d57-dc66-4c71-bcec-a1e19600f590",
   "metadata": {},
   "outputs": [
    {
     "name": "stdout",
     "output_type": "stream",
     "text": [
      "Orange\n",
      "Banana\n",
      "Cherry\n"
     ]
    }
   ],
   "source": [
    "x, y, z = \"Orange\", \"Banana\", \"Cherry\"\n",
    "print(x)\n",
    "print(y)\n",
    "print(z)"
   ]
  },
  {
   "cell_type": "markdown",
   "id": "31ffd425-3d9d-4745-86cb-45c3cb4a644c",
   "metadata": {},
   "source": [
    "Example 19"
   ]
  },
  {
   "cell_type": "code",
   "execution_count": 61,
   "id": "06159918-f5d2-440a-bf56-2f43f82b9280",
   "metadata": {},
   "outputs": [
    {
     "name": "stdout",
     "output_type": "stream",
     "text": [
      "Orange\n",
      "Orange\n",
      "Orange\n"
     ]
    }
   ],
   "source": [
    "x = y = z = \"Orange\"\n",
    "print(x)\n",
    "print(y)\n",
    "print(z)"
   ]
  },
  {
   "cell_type": "markdown",
   "id": "e0d478f2-2278-46a8-a710-fda9d171f3e2",
   "metadata": {},
   "source": [
    "Example 20"
   ]
  },
  {
   "cell_type": "code",
   "execution_count": 64,
   "id": "07d57f82-a967-4d79-a9b8-058e160b5a5f",
   "metadata": {},
   "outputs": [
    {
     "name": "stdout",
     "output_type": "stream",
     "text": [
      "apple\n",
      "banana\n",
      "cherry\n"
     ]
    }
   ],
   "source": [
    "fruits = [\"apple\", \"banana\", \"cherry\"]\n",
    "x, y, z = fruits\n",
    "print(x)\n",
    "print(y)\n",
    "print(z)"
   ]
  },
  {
   "cell_type": "markdown",
   "id": "ce554c7d-ec8f-4a90-8473-b9dddbc454d8",
   "metadata": {},
   "source": [
    "Example 21"
   ]
  },
  {
   "cell_type": "code",
   "execution_count": 67,
   "id": "36ce0577-ed4c-4548-ae62-af0e472cd0d1",
   "metadata": {},
   "outputs": [
    {
     "name": "stdout",
     "output_type": "stream",
     "text": [
      "Python is awesome\n"
     ]
    }
   ],
   "source": [
    "x = \"Python is awesome\"\n",
    "print(x)"
   ]
  },
  {
   "cell_type": "markdown",
   "id": "ad13c026-2735-4a3e-8971-be7a119ef6ab",
   "metadata": {},
   "source": [
    "Example 22"
   ]
  },
  {
   "cell_type": "code",
   "execution_count": 70,
   "id": "a844054e-4000-4c95-967a-cf4a5d4ca794",
   "metadata": {},
   "outputs": [
    {
     "name": "stdout",
     "output_type": "stream",
     "text": [
      "Python is awesome\n"
     ]
    }
   ],
   "source": [
    "x = \"Python\"\n",
    "y = \"is\"\n",
    "z = \"awesome\"\n",
    "print(x, y, z)"
   ]
  },
  {
   "cell_type": "markdown",
   "id": "ad4107e8-aa96-465b-982f-9617e890625e",
   "metadata": {},
   "source": [
    "Example 23"
   ]
  },
  {
   "cell_type": "code",
   "execution_count": 73,
   "id": "7cf393db-60eb-4990-983d-e8c2f7060f7a",
   "metadata": {},
   "outputs": [
    {
     "name": "stdout",
     "output_type": "stream",
     "text": [
      "Python is awesome\n"
     ]
    }
   ],
   "source": [
    "x = \"Python \"\n",
    "y = \"is \"\n",
    "z = \"awesome\"\n",
    "print(x + y + z)"
   ]
  },
  {
   "cell_type": "markdown",
   "id": "5a7fae4c-f152-4972-a200-d39796f9b92a",
   "metadata": {},
   "source": [
    "Example 24 "
   ]
  },
  {
   "cell_type": "code",
   "execution_count": 76,
   "id": "49dd8760-0b71-4810-ae03-822a4241cbd4",
   "metadata": {},
   "outputs": [
    {
     "name": "stdout",
     "output_type": "stream",
     "text": [
      "15\n"
     ]
    }
   ],
   "source": [
    "x = 5\n",
    "y = 10\n",
    "print(x + y)"
   ]
  },
  {
   "cell_type": "markdown",
   "id": "fe8e09a1-5857-4e3e-80da-8a4b16b3524b",
   "metadata": {},
   "source": [
    "Example 25"
   ]
  },
  {
   "cell_type": "code",
   "execution_count": 79,
   "id": "be2f7ba6-0f75-47d6-a77b-5bd926f6fb0c",
   "metadata": {},
   "outputs": [
    {
     "name": "stdout",
     "output_type": "stream",
     "text": [
      "5 John\n"
     ]
    }
   ],
   "source": [
    "x = 5\n",
    "y = \"John\"\n",
    "print(x, y)"
   ]
  },
  {
   "cell_type": "markdown",
   "id": "76c9f487-c890-46aa-81cf-c388635a3602",
   "metadata": {},
   "source": [
    "Example 26"
   ]
  },
  {
   "cell_type": "code",
   "execution_count": 83,
   "id": "54c0ab39-b892-4fd6-a84f-83c641b6581d",
   "metadata": {},
   "outputs": [
    {
     "name": "stdout",
     "output_type": "stream",
     "text": [
      "Python is awesome\n"
     ]
    }
   ],
   "source": [
    "x = \"awesome\"\n",
    "\n",
    "def myfunc():\n",
    "  print(\"Python is \" + x)\n",
    "\n",
    "myfunc()"
   ]
  },
  {
   "cell_type": "markdown",
   "id": "5a1362b5-6e5f-4bdb-99e8-1168fbba62e8",
   "metadata": {},
   "source": [
    "Example 27"
   ]
  },
  {
   "cell_type": "code",
   "execution_count": 232,
   "id": "a6b5b395-e867-42f8-8382-6d0de931e8fc",
   "metadata": {},
   "outputs": [
    {
     "name": "stdout",
     "output_type": "stream",
     "text": [
      "Python is fantastic\n",
      "Python is awesome\n"
     ]
    }
   ],
   "source": [
    "x = \"awesome\"\n",
    "def myfunc():\n",
    "  x = \"fantastic\"\n",
    "  print(\"Python is \" + x)\n",
    "myfunc()\n",
    "print(\"Python is \" + x)"
   ]
  },
  {
   "cell_type": "markdown",
   "id": "2c611060-7658-4d9b-80b9-e0dbed9e7d27",
   "metadata": {},
   "source": [
    "Example 28"
   ]
  },
  {
   "cell_type": "code",
   "execution_count": 234,
   "id": "a2677fca-8af1-49b0-9146-7caae97db2c4",
   "metadata": {},
   "outputs": [
    {
     "name": "stdout",
     "output_type": "stream",
     "text": [
      "Python is fantastic\n"
     ]
    }
   ],
   "source": [
    "def myfunc():\n",
    "  global x\n",
    "  x = \"fantastic\"\n",
    "myfunc()\n",
    "print(\"Python is \" + x)"
   ]
  },
  {
   "cell_type": "markdown",
   "id": "3fd5e7e5-8c1b-41d7-bd56-90cf1915da95",
   "metadata": {},
   "source": [
    "Example 29"
   ]
  },
  {
   "cell_type": "code",
   "execution_count": 236,
   "id": "e451618e-a416-4494-8925-9cb5bc2dbaec",
   "metadata": {},
   "outputs": [
    {
     "name": "stdout",
     "output_type": "stream",
     "text": [
      "Python is fantastic\n"
     ]
    }
   ],
   "source": [
    "x = \"awesome\"\n",
    "def myfunc():\n",
    "  global x\n",
    "  x = \"fantastic\"\n",
    "myfunc()\n",
    "print(\"Python is \" + x)"
   ]
  },
  {
   "cell_type": "markdown",
   "id": "271ec9dc-a834-455a-969f-6c8c5a4eca0c",
   "metadata": {},
   "source": [
    "Example 30"
   ]
  },
  {
   "cell_type": "code",
   "execution_count": 95,
   "id": "bae70c1b-1702-4785-8a68-7e9805f4e2f3",
   "metadata": {},
   "outputs": [
    {
     "name": "stdout",
     "output_type": "stream",
     "text": [
      "<class 'int'>\n"
     ]
    }
   ],
   "source": [
    "x = 5\n",
    "print(type(x))"
   ]
  },
  {
   "cell_type": "markdown",
   "id": "82c2d76d-faf0-4eec-b9ea-a5dcb3b03070",
   "metadata": {},
   "source": [
    "Example 31"
   ]
  },
  {
   "cell_type": "code",
   "execution_count": 238,
   "id": "4047de98-ba93-4f3e-9e71-213a9ef3d7eb",
   "metadata": {},
   "outputs": [
    {
     "name": "stdout",
     "output_type": "stream",
     "text": [
      "Hello World\n",
      "<class 'str'>\n"
     ]
    }
   ],
   "source": [
    "x = \"Hello World\"\n",
    "print(x)\n",
    "print(type(x)) "
   ]
  },
  {
   "cell_type": "markdown",
   "id": "96bd8a67-8f8a-493c-9450-ad7af0d57bb3",
   "metadata": {},
   "source": [
    "Example 32"
   ]
  },
  {
   "cell_type": "code",
   "execution_count": 104,
   "id": "327ad370-5208-46bf-b0c9-7f8ec051a04b",
   "metadata": {},
   "outputs": [
    {
     "name": "stdout",
     "output_type": "stream",
     "text": [
      "20\n",
      "<class 'int'>\n"
     ]
    }
   ],
   "source": [
    "x = 20 \n",
    "print(x)\n",
    "print(type(x))"
   ]
  },
  {
   "cell_type": "markdown",
   "id": "3c6d9d77-f81b-4843-949c-8ff8ef7adc8f",
   "metadata": {},
   "source": [
    "Example 33"
   ]
  },
  {
   "cell_type": "code",
   "execution_count": 107,
   "id": "be220435-4b20-4cdb-a644-cbd862cb094b",
   "metadata": {},
   "outputs": [
    {
     "name": "stdout",
     "output_type": "stream",
     "text": [
      "20.5\n",
      "<class 'float'>\n"
     ]
    }
   ],
   "source": [
    "x = 20.5\n",
    "print(x)\n",
    "print(type(x))"
   ]
  },
  {
   "cell_type": "markdown",
   "id": "4d60ee61-7439-43d1-bef9-1de16f06fb25",
   "metadata": {},
   "source": [
    "Example 34"
   ]
  },
  {
   "cell_type": "code",
   "execution_count": 110,
   "id": "9d77dc82-2f36-46af-94bd-424a49f19dbc",
   "metadata": {},
   "outputs": [
    {
     "name": "stdout",
     "output_type": "stream",
     "text": [
      "1j\n",
      "<class 'complex'>\n"
     ]
    }
   ],
   "source": [
    "x = 1j\n",
    "print(x)\n",
    "print(type(x))"
   ]
  },
  {
   "cell_type": "markdown",
   "id": "d851c6d9-9f9b-45e6-b1e3-4172a4c8c94c",
   "metadata": {},
   "source": [
    "Example 35"
   ]
  },
  {
   "cell_type": "code",
   "execution_count": 115,
   "id": "71cfc80a-8ddf-4229-a10c-35275bdfbc57",
   "metadata": {},
   "outputs": [
    {
     "name": "stdout",
     "output_type": "stream",
     "text": [
      "['apple', 'banana', 'cherry']\n",
      "<class 'list'>\n"
     ]
    }
   ],
   "source": [
    "x = [\"apple\", \"banana\", \"cherry\"]\n",
    "print(x)\n",
    "print(type(x))"
   ]
  },
  {
   "cell_type": "markdown",
   "id": "0bf7476a-ea12-43ee-bf4f-a5e60064b866",
   "metadata": {},
   "source": [
    "Example 36"
   ]
  },
  {
   "cell_type": "code",
   "execution_count": 122,
   "id": "18baeb8e-9bad-4604-90ff-9482fe69129b",
   "metadata": {},
   "outputs": [
    {
     "name": "stdout",
     "output_type": "stream",
     "text": [
      "('apple', 'banana', 'cherry')\n",
      "<class 'tuple'>\n"
     ]
    }
   ],
   "source": [
    "x = (\"apple\", \"banana\", \"cherry\")\n",
    "print(x)\n",
    "print(type(x))"
   ]
  },
  {
   "cell_type": "markdown",
   "id": "f6d548d7-44a8-402a-aa2d-6486529acea5",
   "metadata": {},
   "source": [
    "Example 37"
   ]
  },
  {
   "cell_type": "code",
   "execution_count": 125,
   "id": "6e9fd118-6d47-4f45-81bf-e3dc95c2a274",
   "metadata": {},
   "outputs": [
    {
     "name": "stdout",
     "output_type": "stream",
     "text": [
      "range(0, 6)\n",
      "<class 'range'>\n"
     ]
    }
   ],
   "source": [
    "x = range(6)\n",
    "print(x)\n",
    "print(type(x))"
   ]
  },
  {
   "cell_type": "markdown",
   "id": "5a893865-6077-447f-bfbd-619cf869eee3",
   "metadata": {},
   "source": [
    "Example 38"
   ]
  },
  {
   "cell_type": "code",
   "execution_count": 240,
   "id": "f420d07c-d7af-4123-b399-b4120be8b04c",
   "metadata": {},
   "outputs": [
    {
     "name": "stdout",
     "output_type": "stream",
     "text": [
      "{'name': 'John', 'age': 36}\n",
      "<class 'dict'>\n"
     ]
    }
   ],
   "source": [
    "x = {\"name\" : \"John\", \"age\" : 36}\n",
    "print(x)\n",
    "print(type(x))"
   ]
  },
  {
   "cell_type": "markdown",
   "id": "9e6c607a-dda9-430c-9a30-6849d0aa9936",
   "metadata": {},
   "source": [
    "Example 39"
   ]
  },
  {
   "cell_type": "code",
   "execution_count": 131,
   "id": "183f0f1b-ec2e-4bac-985a-6b37cc7f623a",
   "metadata": {},
   "outputs": [
    {
     "name": "stdout",
     "output_type": "stream",
     "text": [
      "{'banana', 'cherry', 'apple'}\n",
      "<class 'set'>\n"
     ]
    }
   ],
   "source": [
    "x = {\"apple\", \"banana\", \"cherry\"}\n",
    "print(x)\n",
    "print(type(x))"
   ]
  },
  {
   "cell_type": "markdown",
   "id": "0fdc37e4-6faf-4a5a-940f-df1d12a0e1ae",
   "metadata": {},
   "source": [
    "Example 40"
   ]
  },
  {
   "cell_type": "code",
   "execution_count": 242,
   "id": "5f9a429a-23c2-4ccd-bce6-4949b6160e46",
   "metadata": {},
   "outputs": [
    {
     "name": "stdout",
     "output_type": "stream",
     "text": [
      "frozenset({'banana', 'cherry', 'apple'})\n",
      "<class 'frozenset'>\n"
     ]
    }
   ],
   "source": [
    "x = frozenset({\"apple\", \"banana\", \"cherry\"})\n",
    "print(x)\n",
    "print(type(x))"
   ]
  },
  {
   "cell_type": "markdown",
   "id": "1b01d89a-0f2a-4266-853f-019bc60e192b",
   "metadata": {},
   "source": [
    "Example 41"
   ]
  },
  {
   "cell_type": "code",
   "execution_count": 139,
   "id": "13375d24-82bd-4aa2-8310-28c28b4656a8",
   "metadata": {},
   "outputs": [
    {
     "name": "stdout",
     "output_type": "stream",
     "text": [
      "True\n",
      "<class 'bool'>\n"
     ]
    }
   ],
   "source": [
    "x = True\n",
    "print(x)\n",
    "print(type(x))"
   ]
  },
  {
   "cell_type": "markdown",
   "id": "7da7d011-0deb-4c24-9d63-991ad69f1895",
   "metadata": {},
   "source": [
    "Example 42"
   ]
  },
  {
   "cell_type": "code",
   "execution_count": 244,
   "id": "b8af37b2-98ec-4552-93d7-f9145c327d8d",
   "metadata": {},
   "outputs": [
    {
     "name": "stdout",
     "output_type": "stream",
     "text": [
      "b'Hello'\n",
      "<class 'bytes'>\n"
     ]
    }
   ],
   "source": [
    "x = b\"Hello\"\n",
    "print(x)\n",
    "print(type(x))"
   ]
  },
  {
   "cell_type": "markdown",
   "id": "7f4cdb08-7f03-4d53-9088-fc97968e0002",
   "metadata": {},
   "source": [
    "Example 43"
   ]
  },
  {
   "cell_type": "code",
   "execution_count": 246,
   "id": "1f71af70-55b2-45c1-91ba-76ddbc28d611",
   "metadata": {},
   "outputs": [
    {
     "name": "stdout",
     "output_type": "stream",
     "text": [
      "bytearray(b'\\x00\\x00\\x00\\x00\\x00')\n",
      "<class 'bytearray'>\n"
     ]
    }
   ],
   "source": [
    "x = bytearray(5)\n",
    "print(x)\n",
    "print(type(x))"
   ]
  },
  {
   "cell_type": "markdown",
   "id": "ebfce65b-3e67-4b56-8bfe-90ae9b1e10db",
   "metadata": {},
   "source": [
    "Example 44"
   ]
  },
  {
   "cell_type": "code",
   "execution_count": 148,
   "id": "e0782b7b-7412-4595-a817-33ccd8250bbc",
   "metadata": {},
   "outputs": [
    {
     "name": "stdout",
     "output_type": "stream",
     "text": [
      "<memory at 0x000001E06DD23700>\n",
      "<class 'memoryview'>\n"
     ]
    }
   ],
   "source": [
    "x = memoryview(bytes(5))\n",
    "print(x)\n",
    "print(type(x))"
   ]
  },
  {
   "cell_type": "markdown",
   "id": "2366c95f-f3f4-43a2-a953-919ce70066ce",
   "metadata": {},
   "source": [
    "Example 45"
   ]
  },
  {
   "cell_type": "code",
   "execution_count": 248,
   "id": "90ce0db9-06ef-4ed8-9f6f-aaa0677f0cfc",
   "metadata": {},
   "outputs": [
    {
     "name": "stdout",
     "output_type": "stream",
     "text": [
      "None\n",
      "<class 'NoneType'>\n"
     ]
    }
   ],
   "source": [
    "x = None\n",
    "print(x)\n",
    "print(type(x))"
   ]
  },
  {
   "cell_type": "markdown",
   "id": "761c3284-ccd6-4d94-8bfa-50de3675293e",
   "metadata": {},
   "source": [
    "Example 46"
   ]
  },
  {
   "cell_type": "code",
   "execution_count": 154,
   "id": "47faba6f-bc0c-4be9-b1ad-fce60b27ffd2",
   "metadata": {},
   "outputs": [
    {
     "name": "stdout",
     "output_type": "stream",
     "text": [
      "Hello World\n",
      "<class 'str'>\n"
     ]
    }
   ],
   "source": [
    "x = str(\"Hello World\")\n",
    "print(x)\n",
    "print(type(x))"
   ]
  },
  {
   "cell_type": "markdown",
   "id": "b9a6014d-2d49-4325-b0cf-22db0d319be1",
   "metadata": {},
   "source": [
    "Example 47 "
   ]
  },
  {
   "cell_type": "code",
   "execution_count": 250,
   "id": "12e66f07-0a53-4873-b943-40c5910072d4",
   "metadata": {},
   "outputs": [
    {
     "name": "stdout",
     "output_type": "stream",
     "text": [
      "20\n",
      "<class 'int'>\n"
     ]
    }
   ],
   "source": [
    "x = int(20)\n",
    "print(x)\n",
    "print(type(x))"
   ]
  },
  {
   "cell_type": "markdown",
   "id": "b6a63307-6274-44bc-91b3-c7aa2a0e9548",
   "metadata": {},
   "source": [
    "Example 48"
   ]
  },
  {
   "cell_type": "code",
   "execution_count": 252,
   "id": "a8f5f7a4-baec-4d96-85eb-3d9a222cc255",
   "metadata": {},
   "outputs": [
    {
     "name": "stdout",
     "output_type": "stream",
     "text": [
      "20.5\n",
      "<class 'float'>\n"
     ]
    }
   ],
   "source": [
    "x = float(20.5)\n",
    "print(x)\n",
    "print(type(x))"
   ]
  },
  {
   "cell_type": "markdown",
   "id": "93254b0e-346c-4b12-9041-670946684ffb",
   "metadata": {},
   "source": [
    "Example 49"
   ]
  },
  {
   "cell_type": "code",
   "execution_count": 163,
   "id": "a8e277c8-03d0-4021-aee9-e9cd57a5c421",
   "metadata": {},
   "outputs": [
    {
     "name": "stdout",
     "output_type": "stream",
     "text": [
      "1j\n",
      "<class 'complex'>\n"
     ]
    }
   ],
   "source": [
    "x = complex(1j)\n",
    "print(x)\n",
    "print(type(x))"
   ]
  },
  {
   "cell_type": "markdown",
   "id": "03373abc-82de-43c8-b9dd-f810b0eb96b2",
   "metadata": {},
   "source": [
    "Example 50"
   ]
  },
  {
   "cell_type": "code",
   "execution_count": 166,
   "id": "73e0aeee-226f-4a68-b599-38b988d39822",
   "metadata": {},
   "outputs": [
    {
     "name": "stdout",
     "output_type": "stream",
     "text": [
      "['apple', 'banana', 'cherry']\n",
      "<class 'list'>\n"
     ]
    }
   ],
   "source": [
    "x = list((\"apple\", \"banana\", \"cherry\"))\n",
    "print(x)\n",
    "print(type(x))"
   ]
  },
  {
   "cell_type": "markdown",
   "id": "459fc193-77e2-44f6-9057-622b10794af7",
   "metadata": {},
   "source": [
    "Example 51"
   ]
  },
  {
   "cell_type": "code",
   "execution_count": 170,
   "id": "e227b9df-2085-417b-a098-6d9f0ea4f114",
   "metadata": {},
   "outputs": [
    {
     "name": "stdout",
     "output_type": "stream",
     "text": [
      "('apple', 'banana', 'cherry')\n",
      "<class 'tuple'>\n"
     ]
    }
   ],
   "source": [
    "x = tuple((\"apple\", \"banana\", \"cherry\"))\n",
    "print(x)\n",
    "print(type(x))"
   ]
  },
  {
   "cell_type": "markdown",
   "id": "1eeed5f1-a063-46ab-9dd2-a02382a8723d",
   "metadata": {},
   "source": [
    "Example 52"
   ]
  },
  {
   "cell_type": "code",
   "execution_count": 173,
   "id": "b5bf5130-e54d-4ff3-a0c8-7986f2679cca",
   "metadata": {},
   "outputs": [
    {
     "name": "stdout",
     "output_type": "stream",
     "text": [
      "range(0, 6)\n",
      "<class 'range'>\n"
     ]
    }
   ],
   "source": [
    "x = range(6)\n",
    "print(x)\n",
    "print(type(x))"
   ]
  },
  {
   "cell_type": "markdown",
   "id": "daf50a5b-94bf-4d08-a85f-065d24abd148",
   "metadata": {},
   "source": [
    "Example 53"
   ]
  },
  {
   "cell_type": "code",
   "execution_count": 176,
   "id": "4f95f2b7-d567-4a00-bb7a-f25d7ed1ffb6",
   "metadata": {},
   "outputs": [
    {
     "name": "stdout",
     "output_type": "stream",
     "text": [
      "{'name': 'John', 'age': 36}\n",
      "<class 'dict'>\n"
     ]
    }
   ],
   "source": [
    "x = dict(name=\"John\", age=36)\n",
    "print(x)\n",
    "print(type(x))"
   ]
  },
  {
   "cell_type": "markdown",
   "id": "01e570fe-ca32-47b3-874a-a1690105ec11",
   "metadata": {},
   "source": [
    "Example 54 "
   ]
  },
  {
   "cell_type": "code",
   "execution_count": 254,
   "id": "9a914bcc-2d16-4953-a38d-71cd14f84443",
   "metadata": {},
   "outputs": [
    {
     "name": "stdout",
     "output_type": "stream",
     "text": [
      "{'banana', 'cherry', 'apple'}\n",
      "<class 'set'>\n"
     ]
    }
   ],
   "source": [
    "x = set((\"apple\", \"banana\", \"cherry\"))\n",
    "print(x)\n",
    "print(type(x))"
   ]
  },
  {
   "cell_type": "markdown",
   "id": "44faba4f-d479-4214-b089-614e02f6aca2",
   "metadata": {},
   "source": [
    "Example 55"
   ]
  },
  {
   "cell_type": "code",
   "execution_count": 256,
   "id": "27fd8e1e-65ee-40fc-8a1f-d78514fd814a",
   "metadata": {},
   "outputs": [
    {
     "name": "stdout",
     "output_type": "stream",
     "text": [
      "frozenset({'banana', 'cherry', 'apple'})\n",
      "<class 'frozenset'>\n"
     ]
    }
   ],
   "source": [
    "x = frozenset((\"apple\", \"banana\", \"cherry\"))\n",
    "print(x)\n",
    "print(type(x))"
   ]
  },
  {
   "cell_type": "markdown",
   "id": "a20f5e6d-10eb-47f5-99b2-ddd97bad5769",
   "metadata": {},
   "source": [
    "Example 56"
   ]
  },
  {
   "cell_type": "code",
   "execution_count": 185,
   "id": "9dac8f40-bc41-4fd8-bccf-7dac05cf00ed",
   "metadata": {},
   "outputs": [
    {
     "name": "stdout",
     "output_type": "stream",
     "text": [
      "True\n",
      "<class 'bool'>\n"
     ]
    }
   ],
   "source": [
    "x = bool(5)\n",
    "print(x)\n",
    "print(type(x))"
   ]
  },
  {
   "cell_type": "markdown",
   "id": "5042674c-ced3-42cd-9e0a-f2ddf476685c",
   "metadata": {},
   "source": [
    "Example 57"
   ]
  },
  {
   "cell_type": "code",
   "execution_count": 190,
   "id": "49ce9a93-a46d-4bcf-9908-6eedcbc63c1d",
   "metadata": {},
   "outputs": [
    {
     "name": "stdout",
     "output_type": "stream",
     "text": [
      "b'\\x00\\x00\\x00\\x00\\x00'\n",
      "<class 'bytes'>\n"
     ]
    }
   ],
   "source": [
    "x = bytes(5)\n",
    "print(x)\n",
    "print(type(x))"
   ]
  },
  {
   "cell_type": "markdown",
   "id": "958c3f7a-2162-4a57-be9c-310bd93a6e6f",
   "metadata": {},
   "source": [
    "Example 58"
   ]
  },
  {
   "cell_type": "code",
   "execution_count": 258,
   "id": "696d0c99-0cef-4baf-9fff-2ca0b25b0ea4",
   "metadata": {},
   "outputs": [
    {
     "name": "stdout",
     "output_type": "stream",
     "text": [
      "bytearray(b'\\x00\\x00\\x00\\x00\\x00')\n",
      "<class 'bytearray'>\n"
     ]
    }
   ],
   "source": [
    "x = bytearray(5)\n",
    "print(x)\n",
    "print(type(x))"
   ]
  },
  {
   "cell_type": "markdown",
   "id": "c1c6dae9-ef30-474b-807c-560740b6b4b0",
   "metadata": {},
   "source": [
    "Example 59"
   ]
  },
  {
   "cell_type": "code",
   "execution_count": 196,
   "id": "be886861-09d4-4159-a521-306c85f43e81",
   "metadata": {},
   "outputs": [
    {
     "name": "stdout",
     "output_type": "stream",
     "text": [
      "<memory at 0x000001E06DD234C0>\n",
      "<class 'memoryview'>\n"
     ]
    }
   ],
   "source": [
    "x = memoryview(bytes(5))\n",
    "print(x)\n",
    "print(type(x))"
   ]
  },
  {
   "cell_type": "markdown",
   "id": "18783f81-d3bb-467e-b2da-dbcb04a4904c",
   "metadata": {},
   "source": [
    "Example 60"
   ]
  },
  {
   "cell_type": "code",
   "execution_count": 203,
   "id": "db5c78be-b18e-41c1-bb2f-a4e0b5fcd191",
   "metadata": {},
   "outputs": [
    {
     "name": "stdout",
     "output_type": "stream",
     "text": [
      "<class 'int'>\n",
      "<class 'float'>\n",
      "<class 'complex'>\n"
     ]
    }
   ],
   "source": [
    "x = 1    \n",
    "y = 2.8  \n",
    "z = 1j\n",
    "print(type(x))\n",
    "print(type(y))\n",
    "print(type(z))"
   ]
  },
  {
   "cell_type": "markdown",
   "id": "ac98aff2-7c1f-4488-a580-83a20e0f9a7e",
   "metadata": {},
   "source": [
    "Example 61"
   ]
  },
  {
   "cell_type": "code",
   "execution_count": 230,
   "id": "32747995-9bcf-4d6f-849b-836f45095d00",
   "metadata": {},
   "outputs": [
    {
     "name": "stdout",
     "output_type": "stream",
     "text": [
      "<class 'int'>\n",
      "<class 'int'>\n",
      "<class 'int'>\n"
     ]
    }
   ],
   "source": [
    "x = 1\n",
    "y = 35656222554887711\n",
    "z = -3255522\n",
    "print(type(x))\n",
    "print(type(y))\n",
    "print(type(z))"
   ]
  },
  {
   "cell_type": "markdown",
   "id": "6585d5a3-c548-4f0e-a23b-a4ae36f2e526",
   "metadata": {},
   "source": [
    "Example 62"
   ]
  },
  {
   "cell_type": "code",
   "execution_count": 228,
   "id": "a24c03cd-65ea-4d69-9111-4cd3a02d3fa2",
   "metadata": {},
   "outputs": [
    {
     "name": "stdout",
     "output_type": "stream",
     "text": [
      "<class 'float'>\n",
      "<class 'float'>\n",
      "<class 'float'>\n"
     ]
    }
   ],
   "source": [
    "x = 1.10\n",
    "y = 1.0\n",
    "z = -35.59\n",
    "print(type(x))\n",
    "print(type(y))\n",
    "print(type(z))"
   ]
  },
  {
   "cell_type": "markdown",
   "id": "2e2d6bc7-14dd-4403-a3d7-24edeabcdf69",
   "metadata": {},
   "source": [
    "Example 63 "
   ]
  },
  {
   "cell_type": "code",
   "execution_count": 214,
   "id": "0198904e-4982-4799-92c8-e12b587dde3d",
   "metadata": {},
   "outputs": [
    {
     "name": "stdout",
     "output_type": "stream",
     "text": [
      "<class 'float'>\n",
      "<class 'float'>\n",
      "<class 'float'>\n"
     ]
    }
   ],
   "source": [
    "x = 35e3\n",
    "y = 12E4\n",
    "z = -87.7e100\n",
    "\n",
    "print(type(x))\n",
    "print(type(y))\n",
    "print(type(z))"
   ]
  },
  {
   "cell_type": "markdown",
   "id": "f613d49f-f225-4a77-a172-4b0877bdabd1",
   "metadata": {},
   "source": [
    "Example 64"
   ]
  },
  {
   "cell_type": "code",
   "execution_count": 217,
   "id": "e852103f-1621-4c87-92bc-38e5b0ca2bff",
   "metadata": {},
   "outputs": [
    {
     "name": "stdout",
     "output_type": "stream",
     "text": [
      "<class 'complex'>\n",
      "<class 'complex'>\n",
      "<class 'complex'>\n"
     ]
    }
   ],
   "source": [
    "x = 3+5j\n",
    "y = 5j\n",
    "z = -5j\n",
    "\n",
    "print(type(x))\n",
    "print(type(y))\n",
    "print(type(z))"
   ]
  },
  {
   "cell_type": "markdown",
   "id": "3f75d172-4856-4a55-acde-cd69fb4e8c15",
   "metadata": {},
   "source": [
    "Example 65"
   ]
  },
  {
   "cell_type": "code",
   "execution_count": 222,
   "id": "8e11ffd5-2574-4f74-8005-e864baa52e49",
   "metadata": {},
   "outputs": [
    {
     "name": "stdout",
     "output_type": "stream",
     "text": [
      "1.0\n",
      "2\n",
      "(1+0j)\n",
      "<class 'float'>\n",
      "<class 'int'>\n",
      "<class 'complex'>\n"
     ]
    }
   ],
   "source": [
    "x = 1   \n",
    "y = 2.8  \n",
    "z = 1j   \n",
    "a = float(x)\n",
    "b = int(y)\n",
    "c = complex(x)\n",
    "\n",
    "print(a)\n",
    "print(b)\n",
    "print(c)\n",
    "\n",
    "print(type(a))\n",
    "print(type(b))\n",
    "print(type(c))"
   ]
  },
  {
   "cell_type": "markdown",
   "id": "e3699ab7-9445-4d4c-8731-0d4c8d416776",
   "metadata": {},
   "source": [
    "Example 66"
   ]
  },
  {
   "cell_type": "code",
   "execution_count": 225,
   "id": "8f6c74be-c4de-4ac8-96a8-e2c72b2a413e",
   "metadata": {},
   "outputs": [
    {
     "name": "stdout",
     "output_type": "stream",
     "text": [
      "6\n"
     ]
    }
   ],
   "source": [
    "import random\n",
    "\n",
    "print(random.randrange(1, 10))"
   ]
  },
  {
   "cell_type": "markdown",
   "id": "86f246fb-f7f1-4e26-982b-d9e850128d4e",
   "metadata": {},
   "source": [
    "Example 67"
   ]
  },
  {
   "cell_type": "code",
   "execution_count": 260,
   "id": "fb3fa51d-fd10-448b-8b7e-e4a649ea699c",
   "metadata": {},
   "outputs": [],
   "source": [
    "x = int(1)   \n",
    "y = int(2.8) \n",
    "z = int(\"3\")"
   ]
  },
  {
   "cell_type": "markdown",
   "id": "4e0a1d9c-eebc-4f06-9842-a39f9edd9998",
   "metadata": {},
   "source": [
    "Example 68"
   ]
  },
  {
   "cell_type": "code",
   "execution_count": 263,
   "id": "6a5b5dc7-e4e2-4b94-8444-533c1abbf440",
   "metadata": {},
   "outputs": [],
   "source": [
    "x = float(1)     \n",
    "y = float(2.8)   \n",
    "z = float(\"3\")   \n",
    "w = float(\"4.2\")"
   ]
  },
  {
   "cell_type": "markdown",
   "id": "32b25298-58a0-4ac5-ab50-949ea34eeaa3",
   "metadata": {},
   "source": [
    "Example 69"
   ]
  },
  {
   "cell_type": "code",
   "execution_count": 266,
   "id": "cff3a94f-9d93-486b-b22c-a61adb2ba188",
   "metadata": {},
   "outputs": [],
   "source": [
    "x = str(\"s1\") \n",
    "y = str(2)    \n",
    "z = str(3.0)"
   ]
  },
  {
   "cell_type": "markdown",
   "id": "d6147204-14c2-42f0-8bde-0dd4f1d1dd86",
   "metadata": {},
   "source": [
    "Example 70"
   ]
  },
  {
   "cell_type": "code",
   "execution_count": 269,
   "id": "3888e3fd-1eb9-4f00-a029-b0aebc988d24",
   "metadata": {},
   "outputs": [
    {
     "name": "stdout",
     "output_type": "stream",
     "text": [
      "Hello\n",
      "Hello\n"
     ]
    }
   ],
   "source": [
    "print(\"Hello\")\n",
    "print('Hello')"
   ]
  },
  {
   "cell_type": "markdown",
   "id": "fea28098-5c9e-4d9d-bcd6-d028fbe27678",
   "metadata": {},
   "source": [
    "Example 71"
   ]
  },
  {
   "cell_type": "code",
   "execution_count": 274,
   "id": "ea5fe8fc-8d9a-4d70-8d50-154fd1cd6703",
   "metadata": {},
   "outputs": [
    {
     "name": "stdout",
     "output_type": "stream",
     "text": [
      "It's alright\n",
      "He is called 'Johnny'\n",
      "He is called \"Johnny\"\n"
     ]
    }
   ],
   "source": [
    "print(\"It's alright\")\n",
    "print(\"He is called 'Johnny'\")\n",
    "print('He is called \"Johnny\"')"
   ]
  },
  {
   "cell_type": "markdown",
   "id": "f29357e8-da13-4416-803e-3831ca0b909b",
   "metadata": {},
   "source": [
    "Example 72"
   ]
  },
  {
   "cell_type": "code",
   "execution_count": 279,
   "id": "aa095f21-4ded-4927-b537-1e4a9c8265d8",
   "metadata": {},
   "outputs": [
    {
     "name": "stdout",
     "output_type": "stream",
     "text": [
      "Hello\n"
     ]
    }
   ],
   "source": [
    "a = \"Hello\"\n",
    "print(a)"
   ]
  },
  {
   "cell_type": "markdown",
   "id": "f7e45a1e-9208-47a4-abb8-d601e6232285",
   "metadata": {},
   "source": [
    "Example 73"
   ]
  },
  {
   "cell_type": "code",
   "execution_count": 282,
   "id": "b6f29e11-dc6d-457b-8590-7a31f275b1ff",
   "metadata": {},
   "outputs": [
    {
     "name": "stdout",
     "output_type": "stream",
     "text": [
      "Lorem ipsum dolor sit amet,\n",
      "consectetur adipiscing elit,\n",
      "sed do eiusmod tempor incididunt\n",
      "ut labore et dolore magna aliqua.\n"
     ]
    }
   ],
   "source": [
    "a = \"\"\"Lorem ipsum dolor sit amet,\n",
    "consectetur adipiscing elit,\n",
    "sed do eiusmod tempor incididunt\n",
    "ut labore et dolore magna aliqua.\"\"\"\n",
    "print(a)"
   ]
  },
  {
   "cell_type": "markdown",
   "id": "c020c1fc-f376-43f5-bbbf-d0bbd210d3fe",
   "metadata": {},
   "source": [
    "Example 74"
   ]
  },
  {
   "cell_type": "code",
   "execution_count": 285,
   "id": "96e6c462-46dd-4632-9fb4-06595d4c0196",
   "metadata": {},
   "outputs": [
    {
     "name": "stdout",
     "output_type": "stream",
     "text": [
      "Lorem ipsum dolor sit amet,\n",
      "consectetur adipiscing elit,\n",
      "sed do eiusmod tempor incididunt\n",
      "ut labore et dolore magna aliqua.\n"
     ]
    }
   ],
   "source": [
    "a = '''Lorem ipsum dolor sit amet,\n",
    "consectetur adipiscing elit,\n",
    "sed do eiusmod tempor incididunt\n",
    "ut labore et dolore magna aliqua.'''\n",
    "print(a)"
   ]
  },
  {
   "cell_type": "markdown",
   "id": "8f958d79-9dbd-4360-a4c2-f530e4ac99ce",
   "metadata": {},
   "source": [
    "Example 75"
   ]
  },
  {
   "cell_type": "code",
   "execution_count": 288,
   "id": "ef74a7cb-e4d6-4df1-83aa-9986d9e76c0f",
   "metadata": {},
   "outputs": [
    {
     "name": "stdout",
     "output_type": "stream",
     "text": [
      "e\n"
     ]
    }
   ],
   "source": [
    "a = \"Hello, World!\"\n",
    "print(a[1])"
   ]
  },
  {
   "cell_type": "markdown",
   "id": "39f7016e-c2c0-464d-a702-467fdb21fa1f",
   "metadata": {},
   "source": [
    "Example 76 "
   ]
  },
  {
   "cell_type": "code",
   "execution_count": 293,
   "id": "37372c65-b267-4991-96dc-20043b0d61e1",
   "metadata": {},
   "outputs": [
    {
     "name": "stdout",
     "output_type": "stream",
     "text": [
      "b\n",
      "a\n",
      "n\n",
      "a\n",
      "n\n",
      "a\n"
     ]
    }
   ],
   "source": [
    "for x in \"banana\":\n",
    "  print(x)"
   ]
  },
  {
   "cell_type": "markdown",
   "id": "6724293f-c06b-4ef9-b090-86147b8a1613",
   "metadata": {},
   "source": [
    "Example 77"
   ]
  },
  {
   "cell_type": "code",
   "execution_count": 296,
   "id": "bcd45c31-ebca-46ae-8a27-bd007db8ed36",
   "metadata": {},
   "outputs": [
    {
     "name": "stdout",
     "output_type": "stream",
     "text": [
      "13\n"
     ]
    }
   ],
   "source": [
    "a = \"Hello, World!\"\n",
    "print(len(a))"
   ]
  },
  {
   "cell_type": "markdown",
   "id": "2529e0b3-a545-45af-a9d8-fc05c72411af",
   "metadata": {},
   "source": [
    "Example 78"
   ]
  },
  {
   "cell_type": "code",
   "execution_count": 299,
   "id": "f24a85a0-65cc-4bd7-a811-d46a8b1e0cff",
   "metadata": {},
   "outputs": [
    {
     "name": "stdout",
     "output_type": "stream",
     "text": [
      "True\n"
     ]
    }
   ],
   "source": [
    "txt = \"The best things in life are free!\"\n",
    "print(\"free\" in txt)"
   ]
  },
  {
   "cell_type": "markdown",
   "id": "20dd6104-0fad-4b7f-a3b8-eeb5c0ef551b",
   "metadata": {},
   "source": [
    "Example 79"
   ]
  },
  {
   "cell_type": "code",
   "execution_count": 302,
   "id": "c44773fc-cd5c-449a-bac0-95c27a7e632f",
   "metadata": {},
   "outputs": [
    {
     "name": "stdout",
     "output_type": "stream",
     "text": [
      "Yes, 'free' is present.\n"
     ]
    }
   ],
   "source": [
    "txt = \"The best things in life are free!\"\n",
    "if \"free\" in txt:\n",
    "  print(\"Yes, 'free' is present.\")"
   ]
  },
  {
   "cell_type": "markdown",
   "id": "2224b6fc-4b53-4d09-9441-8cb384b23185",
   "metadata": {},
   "source": [
    "Example 80"
   ]
  },
  {
   "cell_type": "code",
   "execution_count": 305,
   "id": "be44f9fb-972d-46d0-928f-727ee48179ab",
   "metadata": {},
   "outputs": [
    {
     "name": "stdout",
     "output_type": "stream",
     "text": [
      "True\n"
     ]
    }
   ],
   "source": [
    "txt = \"The best things in life are free!\"\n",
    "print(\"expensive\" not in txt)"
   ]
  },
  {
   "cell_type": "markdown",
   "id": "6ca612d2-b992-4eb1-b9a6-2583ae3cc68f",
   "metadata": {},
   "source": [
    "Example 81"
   ]
  },
  {
   "cell_type": "code",
   "execution_count": 308,
   "id": "be77ec39-917f-4bb4-b38e-fe757332f345",
   "metadata": {},
   "outputs": [
    {
     "name": "stdout",
     "output_type": "stream",
     "text": [
      "No, 'expensive' is NOT present.\n"
     ]
    }
   ],
   "source": [
    "txt = \"The best things in life are free!\"\n",
    "if \"expensive\" not in txt:\n",
    "  print(\"No, 'expensive' is NOT present.\")"
   ]
  },
  {
   "cell_type": "markdown",
   "id": "e6091ed5-bdab-47bc-9950-dc544e865d66",
   "metadata": {},
   "source": [
    "Example 82"
   ]
  },
  {
   "cell_type": "code",
   "execution_count": 311,
   "id": "efde5070-d62f-4aa8-b5f9-d096a2cbc488",
   "metadata": {},
   "outputs": [
    {
     "name": "stdout",
     "output_type": "stream",
     "text": [
      "llo\n"
     ]
    }
   ],
   "source": [
    "b = \"Hello, World!\"\n",
    "print(b[2:5])"
   ]
  },
  {
   "cell_type": "markdown",
   "id": "245840e1-9727-45ba-95aa-ea7293747dbd",
   "metadata": {},
   "source": [
    "Example 83"
   ]
  },
  {
   "cell_type": "code",
   "execution_count": 314,
   "id": "9f9e1b16-c841-4ebd-9a06-dce257b9d0d1",
   "metadata": {},
   "outputs": [
    {
     "name": "stdout",
     "output_type": "stream",
     "text": [
      "Hello\n"
     ]
    }
   ],
   "source": [
    "b = \"Hello, World!\"\n",
    "print(b[:5])"
   ]
  },
  {
   "cell_type": "markdown",
   "id": "433bb9ec-0cc4-4163-b630-aeaecc9b16e9",
   "metadata": {},
   "source": [
    "Example 84"
   ]
  },
  {
   "cell_type": "code",
   "execution_count": 317,
   "id": "891060f0-e932-42a4-b5fc-d53438f62f50",
   "metadata": {},
   "outputs": [
    {
     "name": "stdout",
     "output_type": "stream",
     "text": [
      "llo, World!\n"
     ]
    }
   ],
   "source": [
    "b = \"Hello, World!\"\n",
    "print(b[2:])"
   ]
  },
  {
   "cell_type": "markdown",
   "id": "270ae8c3-3f28-410c-b2bd-8748936c2282",
   "metadata": {},
   "source": [
    "Example 85"
   ]
  },
  {
   "cell_type": "code",
   "execution_count": 320,
   "id": "78c045e8-46d3-461b-9a80-7e045a6b4c69",
   "metadata": {},
   "outputs": [
    {
     "name": "stdout",
     "output_type": "stream",
     "text": [
      "orl\n"
     ]
    }
   ],
   "source": [
    "b = \"Hello, World!\"\n",
    "print(b[-5:-2])"
   ]
  },
  {
   "cell_type": "markdown",
   "id": "1fee81d5-3d07-4fe4-a6de-95e646dd1030",
   "metadata": {},
   "source": [
    "Example 86"
   ]
  },
  {
   "cell_type": "code",
   "execution_count": 323,
   "id": "da509111-6125-44a5-b8bc-ed72ed559c32",
   "metadata": {},
   "outputs": [
    {
     "name": "stdout",
     "output_type": "stream",
     "text": [
      "HELLO, WORLD!\n"
     ]
    }
   ],
   "source": [
    "a = \"Hello, World!\"\n",
    "print(a.upper())"
   ]
  },
  {
   "cell_type": "markdown",
   "id": "a95d96d5-de13-47c1-9c67-f7d67a1338f0",
   "metadata": {},
   "source": [
    "Example 87"
   ]
  },
  {
   "cell_type": "code",
   "execution_count": 328,
   "id": "c3e399c4-c504-4644-b381-aee4c0aad63c",
   "metadata": {},
   "outputs": [
    {
     "name": "stdout",
     "output_type": "stream",
     "text": [
      "hello, world!\n"
     ]
    }
   ],
   "source": [
    "a = \"Hello, World!\"\n",
    "print(a.lower())"
   ]
  },
  {
   "cell_type": "markdown",
   "id": "e52850ab-30b8-4996-a77c-7d61b6d6585d",
   "metadata": {},
   "source": [
    "Example 88"
   ]
  },
  {
   "cell_type": "code",
   "execution_count": 331,
   "id": "71c84040-e200-483b-b430-4156cad26095",
   "metadata": {},
   "outputs": [
    {
     "name": "stdout",
     "output_type": "stream",
     "text": [
      "Hello, World!\n"
     ]
    }
   ],
   "source": [
    "a = \" Hello, World! \"\n",
    "print(a.strip()) "
   ]
  },
  {
   "cell_type": "markdown",
   "id": "2097bf30-c863-47ca-8033-0901028aca93",
   "metadata": {},
   "source": [
    "Example 89"
   ]
  },
  {
   "cell_type": "code",
   "execution_count": 334,
   "id": "5ad90582-bedf-4f30-b8e7-3ecb5ba26f28",
   "metadata": {},
   "outputs": [
    {
     "name": "stdout",
     "output_type": "stream",
     "text": [
      "Jello, World!\n"
     ]
    }
   ],
   "source": [
    "a = \"Hello, World!\"\n",
    "print(a.replace(\"H\", \"J\"))"
   ]
  },
  {
   "cell_type": "markdown",
   "id": "2590beb8-93f4-4b44-8802-b642ea8ad157",
   "metadata": {},
   "source": [
    "Example 90"
   ]
  },
  {
   "cell_type": "code",
   "execution_count": 337,
   "id": "664521c7-6acc-427b-abea-558c48d4b9ac",
   "metadata": {},
   "outputs": [
    {
     "name": "stdout",
     "output_type": "stream",
     "text": [
      "['Hello', ' World!']\n"
     ]
    }
   ],
   "source": [
    "a = \"Hello, World!\"\n",
    "print(a.split(\",\"))"
   ]
  },
  {
   "cell_type": "markdown",
   "id": "7b190d6d-8da4-4f5f-8a85-1440b4b18999",
   "metadata": {},
   "source": [
    "Example 91"
   ]
  },
  {
   "cell_type": "code",
   "execution_count": 340,
   "id": "632c9089-414e-48fb-9ffe-b6549b66208c",
   "metadata": {},
   "outputs": [
    {
     "name": "stdout",
     "output_type": "stream",
     "text": [
      "HelloWorld\n"
     ]
    }
   ],
   "source": [
    "a = \"Hello\"\n",
    "b = \"World\"\n",
    "c = a + b\n",
    "print(c)"
   ]
  },
  {
   "cell_type": "markdown",
   "id": "a8c33f5d-996d-4b00-b7c2-2eff8c53c12d",
   "metadata": {},
   "source": [
    "Example 92"
   ]
  },
  {
   "cell_type": "code",
   "execution_count": 344,
   "id": "1082443e-cf57-4f71-aa6e-69ab4c312cb8",
   "metadata": {},
   "outputs": [
    {
     "name": "stdout",
     "output_type": "stream",
     "text": [
      "Hello World\n"
     ]
    }
   ],
   "source": [
    "a = \"Hello\"\n",
    "b = \"World\"\n",
    "c = a + \" \" + b\n",
    "print(c)"
   ]
  },
  {
   "cell_type": "markdown",
   "id": "d45f45da-6de7-4263-a5b7-fae8ce9f2270",
   "metadata": {},
   "source": [
    "Example 93"
   ]
  },
  {
   "cell_type": "code",
   "execution_count": 348,
   "id": "48a7328a-2cf4-4044-8943-8d02f678dfab",
   "metadata": {},
   "outputs": [
    {
     "name": "stdout",
     "output_type": "stream",
     "text": [
      "My name is John, I am 36\n"
     ]
    }
   ],
   "source": [
    "age = 36\n",
    "txt = f\"My name is John, I am {age}\"\n",
    "print(txt)"
   ]
  },
  {
   "cell_type": "markdown",
   "id": "f657410f-33e5-4ad3-845f-a59baa9f0a62",
   "metadata": {},
   "source": [
    "Example 94"
   ]
  },
  {
   "cell_type": "code",
   "execution_count": 351,
   "id": "a0752060-b503-4960-80bc-5a902dc1325c",
   "metadata": {},
   "outputs": [
    {
     "name": "stdout",
     "output_type": "stream",
     "text": [
      "The price is 59 dollars\n"
     ]
    }
   ],
   "source": [
    "price = 59\n",
    "txt = f\"The price is {price} dollars\"\n",
    "print(txt)"
   ]
  },
  {
   "cell_type": "markdown",
   "id": "735dd49c-e872-4e4b-a99e-87144a388dca",
   "metadata": {},
   "source": [
    "Example 95 "
   ]
  },
  {
   "cell_type": "code",
   "execution_count": 354,
   "id": "315cc6f2-4068-4167-814b-28c4f4f79c84",
   "metadata": {},
   "outputs": [
    {
     "name": "stdout",
     "output_type": "stream",
     "text": [
      "The price is 59.00 dollars\n"
     ]
    }
   ],
   "source": [
    "price = 59\n",
    "txt = f\"The price is {price:.2f} dollars\"\n",
    "print(txt)"
   ]
  },
  {
   "cell_type": "markdown",
   "id": "e1ce81b7-5255-4198-a07b-14331eb2c36e",
   "metadata": {},
   "source": [
    "Example 96"
   ]
  },
  {
   "cell_type": "code",
   "execution_count": 357,
   "id": "08466583-2e5b-453b-94b5-7eda1706f7b8",
   "metadata": {},
   "outputs": [
    {
     "name": "stdout",
     "output_type": "stream",
     "text": [
      "The price is 1180 dollars\n"
     ]
    }
   ],
   "source": [
    "txt = f\"The price is {20 * 59} dollars\"\n",
    "print(txt)"
   ]
  },
  {
   "cell_type": "markdown",
   "id": "9510153d-408a-47f5-9f89-699f2b2b2541",
   "metadata": {},
   "source": [
    "Example 97"
   ]
  },
  {
   "cell_type": "code",
   "execution_count": 362,
   "id": "5963420a-fffd-4fae-9b4d-3ce84b8dc6e7",
   "metadata": {},
   "outputs": [
    {
     "name": "stdout",
     "output_type": "stream",
     "text": [
      "We are the so-called \"Vikings\" from the north.\n"
     ]
    }
   ],
   "source": [
    "txt = \"We are the so-called \\\"Vikings\\\" from the north.\"\n",
    "print(txt)"
   ]
  },
  {
   "cell_type": "markdown",
   "id": "9c845f3a-d55c-448e-a39a-231ff6335bd2",
   "metadata": {},
   "source": [
    "Example 98"
   ]
  },
  {
   "cell_type": "code",
   "execution_count": 365,
   "id": "0940f82e-86d9-4899-85db-9e07190d0ac8",
   "metadata": {},
   "outputs": [
    {
     "name": "stdout",
     "output_type": "stream",
     "text": [
      "It's alright.\n"
     ]
    }
   ],
   "source": [
    "txt = 'It\\'s alright.'\n",
    "print(txt) "
   ]
  },
  {
   "cell_type": "markdown",
   "id": "1292740b-aeab-428d-8fc9-cf0e23ae3ec5",
   "metadata": {},
   "source": [
    "Example 99"
   ]
  },
  {
   "cell_type": "code",
   "execution_count": 368,
   "id": "e2f7a9bf-cd72-408b-91cc-6332fe3014f0",
   "metadata": {},
   "outputs": [
    {
     "name": "stdout",
     "output_type": "stream",
     "text": [
      "This will insert one \\ (backslash).\n"
     ]
    }
   ],
   "source": [
    "txt = \"This will insert one \\\\ (backslash).\"\n",
    "print(txt) "
   ]
  },
  {
   "cell_type": "markdown",
   "id": "107fbd94-6a8a-4c74-bac2-00c94bf0131b",
   "metadata": {},
   "source": [
    "Example 100"
   ]
  },
  {
   "cell_type": "code",
   "execution_count": 371,
   "id": "0afd9bba-d34d-43d5-b121-b03c69501cbe",
   "metadata": {},
   "outputs": [
    {
     "name": "stdout",
     "output_type": "stream",
     "text": [
      "Hello\n",
      "World!\n"
     ]
    }
   ],
   "source": [
    "txt = \"Hello\\nWorld!\"\n",
    "print(txt) "
   ]
  },
  {
   "cell_type": "markdown",
   "id": "b42548dd-5b90-4f1c-a79f-10d5f654f2a9",
   "metadata": {},
   "source": [
    "Example 101"
   ]
  },
  {
   "cell_type": "code",
   "execution_count": 374,
   "id": "38151763-70f9-4c90-9664-1be641bdde17",
   "metadata": {},
   "outputs": [
    {
     "name": "stdout",
     "output_type": "stream",
     "text": [
      "World!\n"
     ]
    }
   ],
   "source": [
    "txt = \"Hello\\rWorld!\"\n",
    "print(txt) \n"
   ]
  },
  {
   "cell_type": "markdown",
   "id": "0d337f23-5187-4f74-9782-85b2fbfc15a2",
   "metadata": {},
   "source": [
    "Example 102"
   ]
  },
  {
   "cell_type": "code",
   "execution_count": 377,
   "id": "c21dd530-4ec1-475f-8d07-f0ddff7408de",
   "metadata": {},
   "outputs": [
    {
     "name": "stdout",
     "output_type": "stream",
     "text": [
      "Hello\tWorld!\n"
     ]
    }
   ],
   "source": [
    "txt = \"Hello\\tWorld!\"\n",
    "print(txt) "
   ]
  },
  {
   "cell_type": "markdown",
   "id": "b1fc1d2e-4c00-446d-be82-5f0f6be913ce",
   "metadata": {},
   "source": [
    "Example 103"
   ]
  },
  {
   "cell_type": "code",
   "execution_count": 380,
   "id": "f17b67c3-6243-4d35-a0f4-5e4de1bc0353",
   "metadata": {},
   "outputs": [
    {
     "name": "stdout",
     "output_type": "stream",
     "text": [
      "HelloWorld!\n"
     ]
    }
   ],
   "source": [
    "txt = \"Hello \\bWorld!\"\n",
    "print(txt) \n"
   ]
  },
  {
   "cell_type": "markdown",
   "id": "7c873503-8962-45b5-8d44-0f5dcc51a3b0",
   "metadata": {},
   "source": [
    "Example 104"
   ]
  },
  {
   "cell_type": "code",
   "execution_count": 383,
   "id": "8cb422dc-3fe0-4886-93f6-85c186ac1d26",
   "metadata": {},
   "outputs": [
    {
     "name": "stdout",
     "output_type": "stream",
     "text": [
      "Hello\n"
     ]
    }
   ],
   "source": [
    "txt = \"\\110\\145\\154\\154\\157\"\n",
    "print(txt) \n"
   ]
  },
  {
   "cell_type": "markdown",
   "id": "039e4feb-654a-4b1c-944d-f0bee831e6ec",
   "metadata": {},
   "source": [
    "Example 105 "
   ]
  },
  {
   "cell_type": "code",
   "execution_count": 386,
   "id": "4942e7d9-7fa7-4c68-8775-7a65421bf87c",
   "metadata": {},
   "outputs": [
    {
     "name": "stdout",
     "output_type": "stream",
     "text": [
      "Hello\n"
     ]
    }
   ],
   "source": [
    "txt = \"\\x48\\x65\\x6c\\x6c\\x6f\"\n",
    "print(txt) \n"
   ]
  },
  {
   "cell_type": "markdown",
   "id": "e6fb325c-08e5-4ada-a02f-08f9473afe65",
   "metadata": {},
   "source": [
    "Example 106"
   ]
  },
  {
   "cell_type": "code",
   "execution_count": null,
   "id": "ef95b03b-4cc0-4de2-a586-faf5df58d21a",
   "metadata": {},
   "outputs": [],
   "source": []
  }
 ],
 "metadata": {
  "kernelspec": {
   "display_name": "Python [conda env:base] *",
   "language": "python",
   "name": "conda-base-py"
  },
  "language_info": {
   "codemirror_mode": {
    "name": "ipython",
    "version": 3
   },
   "file_extension": ".py",
   "mimetype": "text/x-python",
   "name": "python",
   "nbconvert_exporter": "python",
   "pygments_lexer": "ipython3",
   "version": "3.12.7"
  }
 },
 "nbformat": 4,
 "nbformat_minor": 5
}
