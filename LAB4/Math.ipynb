{
 "cells": [
  {
   "cell_type": "code",
   "execution_count": 17,
   "id": "abf78fb0-5d08-43ec-b9e0-dbe82e37ea18",
   "metadata": {},
   "outputs": [
    {
     "name": "stdin",
     "output_type": "stream",
     "text": [
      " 15\n"
     ]
    },
    {
     "name": "stdout",
     "output_type": "stream",
     "text": [
      "0.2617993877991494\n"
     ]
    }
   ],
   "source": [
    "import math \n",
    "def convert(a):\n",
    "    return math.radians(a)\n",
    "x = int(input())\n",
    "print(convert(x))"
   ]
  },
  {
   "cell_type": "code",
   "execution_count": 19,
   "id": "055ecb55-4c4e-4466-9590-a11d1da38407",
   "metadata": {},
   "outputs": [
    {
     "name": "stdin",
     "output_type": "stream",
     "text": [
      " 5\n",
      " 6\n",
      " 5\n"
     ]
    },
    {
     "name": "stdout",
     "output_type": "stream",
     "text": [
      "27.5\n"
     ]
    }
   ],
   "source": [
    "def trapezoid(a,b,c):\n",
    "    return (b+c)*a/2\n",
    "h = int(input())\n",
    "a = int(input())\n",
    "b = int(input())\n",
    "print(trapezoid(h,a,b))"
   ]
  },
  {
   "cell_type": "code",
   "execution_count": 5,
   "id": "e99ed882-1934-498e-b073-4270ddf60f96",
   "metadata": {},
   "outputs": [
    {
     "name": "stdin",
     "output_type": "stream",
     "text": [
      " 4\n",
      " 25\n"
     ]
    },
    {
     "name": "stdout",
     "output_type": "stream",
     "text": [
      "625\n"
     ]
    }
   ],
   "source": [
    "import math\n",
    "a = int(input())\n",
    "b = int(input())\n",
    "c = b/(2*math.tan(math.pi/a))\n",
    "print(int((a * b * c)/2))"
   ]
  },
  {
   "cell_type": "code",
   "execution_count": 27,
   "id": "c4cd184b-cbd4-4730-9971-dc4b0c852725",
   "metadata": {},
   "outputs": [
    {
     "name": "stdin",
     "output_type": "stream",
     "text": [
      " 5\n",
      " 6\n"
     ]
    },
    {
     "name": "stdout",
     "output_type": "stream",
     "text": [
      "30.0\n"
     ]
    }
   ],
   "source": [
    "def parallelogram(a,b):\n",
    "    print(float(a*b))\n",
    "a = int(input())\n",
    "h = int(input())\n",
    "parallelogram(a,h)"
   ]
  },
  {
   "cell_type": "code",
   "execution_count": null,
   "id": "2837a526-a8d8-4fed-9ef3-15487d55fd87",
   "metadata": {},
   "outputs": [],
   "source": []
  }
 ],
 "metadata": {
  "kernelspec": {
   "display_name": "Python 3 (ipykernel)",
   "language": "python",
   "name": "python3"
  },
  "language_info": {
   "codemirror_mode": {
    "name": "ipython",
    "version": 3
   },
   "file_extension": ".py",
   "mimetype": "text/x-python",
   "name": "python",
   "nbconvert_exporter": "python",
   "pygments_lexer": "ipython3",
   "version": "3.12.7"
  }
 },
 "nbformat": 4,
 "nbformat_minor": 5
}
